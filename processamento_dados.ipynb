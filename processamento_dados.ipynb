{
 "cells": [
  {
   "cell_type": "code",
   "execution_count": 11,
   "metadata": {},
   "outputs": [],
   "source": [
    "import awswrangler as wr\n",
    "import pandas as pd\n",
    "import os\n",
    "import boto3\n",
    "import plotly.express as px\n",
    "import plotly.graph_objects as go"
   ]
  },
  {
   "cell_type": "code",
   "execution_count": 12,
   "metadata": {},
   "outputs": [],
   "source": [
    "import json\n",
    "with open(\"keys.json\", \"r\") as f:\n",
    "\taws_keys = json.load(f)\n",
    "\n",
    "# create session\n",
    "session = boto3.Session(aws_access_key_id=aws_keys[\"access_key\"], aws_secret_access_key=aws_keys[\"secret_key\"])\n",
    "bucket_name = \"labdigi-filebucket\""
   ]
  },
  {
   "cell_type": "code",
   "execution_count": 13,
   "metadata": {},
   "outputs": [],
   "source": [
    "files = wr.s3.list_objects(f\"s3://{bucket_name}/raw_data/\")\n",
    "df = pd.DataFrame(files, columns=['path'])"
   ]
  },
  {
   "cell_type": "code",
   "execution_count": 14,
   "metadata": {},
   "outputs": [],
   "source": [
    "df['timestamp'] = df['path'].apply(lambda x: int(x.split(\"/\")[-2]))"
   ]
  },
  {
   "cell_type": "code",
   "execution_count": 15,
   "metadata": {},
   "outputs": [],
   "source": [
    "df['datetime'] = pd.to_datetime(df['timestamp'], unit='ms')"
   ]
  },
  {
   "cell_type": "code",
   "execution_count": 16,
   "metadata": {},
   "outputs": [],
   "source": [
    "# corrigindo uma cagada\n",
    "#files_to_delete = list(df[df['datetime'] < '2022-04-05']['path'])\n",
    "#wr.s3.delete_objects(files_to_delete)"
   ]
  },
  {
   "cell_type": "code",
   "execution_count": 17,
   "metadata": {},
   "outputs": [],
   "source": [
    "df['folder_timestamp'] = df['path'].apply(lambda x: int(x.split(\"/\")[-3]))"
   ]
  },
  {
   "cell_type": "code",
   "execution_count": 18,
   "metadata": {},
   "outputs": [
    {
     "data": {
      "text/plain": [
       "1649259351    697\n",
       "1649425269    635\n",
       "Name: folder_timestamp, dtype: int64"
      ]
     },
     "execution_count": 18,
     "metadata": {},
     "output_type": "execute_result"
    }
   ],
   "source": [
    "df['folder_timestamp'].value_counts()"
   ]
  },
  {
   "cell_type": "code",
   "execution_count": 19,
   "metadata": {},
   "outputs": [],
   "source": [
    "#df = df[df['folder_timestamp'] == df['folder_timestamp'].max()]\n",
    "df = df[df['folder_timestamp'] == 1649259351]"
   ]
  },
  {
   "cell_type": "code",
   "execution_count": 20,
   "metadata": {},
   "outputs": [],
   "source": [
    "files = df['path'].tolist()"
   ]
  },
  {
   "cell_type": "code",
   "execution_count": 60,
   "metadata": {},
   "outputs": [],
   "source": [
    "list_of_dfs = []\n",
    "for file in files:\n",
    "\ttmp_df = pd.read_json(file)\n",
    "\tlist_of_dfs.append(tmp_df)"
   ]
  },
  {
   "cell_type": "code",
   "execution_count": 61,
   "metadata": {},
   "outputs": [],
   "source": [
    "backup = list_of_dfs.copy()"
   ]
  },
  {
   "cell_type": "code",
   "execution_count": 62,
   "metadata": {},
   "outputs": [],
   "source": [
    "# # open pickle\n",
    "# import pickle\n",
    "# with open(\"backup.pkl\", \"rb\") as f:\n",
    "# \tlist_of_dfs = pickle.load(f)"
   ]
  },
  {
   "cell_type": "code",
   "execution_count": 63,
   "metadata": {},
   "outputs": [],
   "source": [
    "df: pd.DataFrame = pd.concat(list_of_dfs)"
   ]
  },
  {
   "cell_type": "code",
   "execution_count": 64,
   "metadata": {},
   "outputs": [
    {
     "data": {
      "text/html": [
       "<div>\n",
       "<style scoped>\n",
       "    .dataframe tbody tr th:only-of-type {\n",
       "        vertical-align: middle;\n",
       "    }\n",
       "\n",
       "    .dataframe tbody tr th {\n",
       "        vertical-align: top;\n",
       "    }\n",
       "\n",
       "    .dataframe thead th {\n",
       "        text-align: right;\n",
       "    }\n",
       "</style>\n",
       "<table border=\"1\" class=\"dataframe\">\n",
       "  <thead>\n",
       "    <tr style=\"text-align: right;\">\n",
       "      <th></th>\n",
       "      <th>topic</th>\n",
       "      <th>value</th>\n",
       "      <th>time</th>\n",
       "    </tr>\n",
       "  </thead>\n",
       "  <tbody>\n",
       "    <tr>\n",
       "      <th>0</th>\n",
       "      <td>grupo2-bancadaB1/hello</td>\n",
       "      <td>#5239</td>\n",
       "      <td>1649248555071</td>\n",
       "    </tr>\n",
       "    <tr>\n",
       "      <th>1</th>\n",
       "      <td>grupo2-bancadaB1/hello</td>\n",
       "      <td>#5240</td>\n",
       "      <td>1649248557075</td>\n",
       "    </tr>\n",
       "    <tr>\n",
       "      <th>2</th>\n",
       "      <td>grupo2-bancadaB1/E2</td>\n",
       "      <td>1</td>\n",
       "      <td>1649248557531</td>\n",
       "    </tr>\n",
       "    <tr>\n",
       "      <th>3</th>\n",
       "      <td>grupo2-bancadaB1/S4</td>\n",
       "      <td>1</td>\n",
       "      <td>1649248557853</td>\n",
       "    </tr>\n",
       "    <tr>\n",
       "      <th>4</th>\n",
       "      <td>grupo2-bancadaB1/E2</td>\n",
       "      <td>0</td>\n",
       "      <td>1649248558514</td>\n",
       "    </tr>\n",
       "    <tr>\n",
       "      <th>...</th>\n",
       "      <td>...</td>\n",
       "      <td>...</td>\n",
       "      <td>...</td>\n",
       "    </tr>\n",
       "    <tr>\n",
       "      <th>1</th>\n",
       "      <td>grupo2-bancadaB1/hello</td>\n",
       "      <td>#7105</td>\n",
       "      <td>1649252290161</td>\n",
       "    </tr>\n",
       "    <tr>\n",
       "      <th>2</th>\n",
       "      <td>grupo2-bancadaB1/hello</td>\n",
       "      <td>#7106</td>\n",
       "      <td>1649252292165</td>\n",
       "    </tr>\n",
       "    <tr>\n",
       "      <th>0</th>\n",
       "      <td>grupo2-bancadaB1/hello</td>\n",
       "      <td>#7107</td>\n",
       "      <td>1649252294166</td>\n",
       "    </tr>\n",
       "    <tr>\n",
       "      <th>1</th>\n",
       "      <td>grupo2-bancadaB1/hello</td>\n",
       "      <td>#7108</td>\n",
       "      <td>1649252296180</td>\n",
       "    </tr>\n",
       "    <tr>\n",
       "      <th>2</th>\n",
       "      <td>grupo2-bancadaB1/hello</td>\n",
       "      <td>#7109</td>\n",
       "      <td>1649252298176</td>\n",
       "    </tr>\n",
       "  </tbody>\n",
       "</table>\n",
       "<p>4111 rows × 3 columns</p>\n",
       "</div>"
      ],
      "text/plain": [
       "                     topic  value           time\n",
       "0   grupo2-bancadaB1/hello  #5239  1649248555071\n",
       "1   grupo2-bancadaB1/hello  #5240  1649248557075\n",
       "2      grupo2-bancadaB1/E2      1  1649248557531\n",
       "3      grupo2-bancadaB1/S4      1  1649248557853\n",
       "4      grupo2-bancadaB1/E2      0  1649248558514\n",
       "..                     ...    ...            ...\n",
       "1   grupo2-bancadaB1/hello  #7105  1649252290161\n",
       "2   grupo2-bancadaB1/hello  #7106  1649252292165\n",
       "0   grupo2-bancadaB1/hello  #7107  1649252294166\n",
       "1   grupo2-bancadaB1/hello  #7108  1649252296180\n",
       "2   grupo2-bancadaB1/hello  #7109  1649252298176\n",
       "\n",
       "[4111 rows x 3 columns]"
      ]
     },
     "execution_count": 64,
     "metadata": {},
     "output_type": "execute_result"
    }
   ],
   "source": [
    "df"
   ]
  },
  {
   "cell_type": "code",
   "execution_count": 65,
   "metadata": {},
   "outputs": [],
   "source": [
    "df.reset_index(drop=True, inplace=True)"
   ]
  },
  {
   "cell_type": "code",
   "execution_count": 66,
   "metadata": {},
   "outputs": [],
   "source": [
    "df['time']=  df['time']*1000"
   ]
  },
  {
   "cell_type": "code",
   "execution_count": 67,
   "metadata": {},
   "outputs": [],
   "source": [
    "df['datetime'] =  pd.to_datetime(df['time'], unit='us')"
   ]
  },
  {
   "cell_type": "code",
   "execution_count": 68,
   "metadata": {},
   "outputs": [],
   "source": [
    "tmp_df = df[df.duplicated(subset=['topic', 'time'], keep=False)]"
   ]
  },
  {
   "cell_type": "code",
   "execution_count": 69,
   "metadata": {},
   "outputs": [
    {
     "name": "stdout",
     "output_type": "stream",
     "text": [
      "-- Topic: grupo2-bancadaB1/S1 Time: 1649248651140000 Max: 2\n",
      "-3\n",
      "0\n",
      "-- Topic: grupo2-bancadaB1/S1 Time: 1649248651140000 Max: 2\n",
      "-3\n",
      "0\n",
      "-- Topic: grupo2-bancadaB1/S2 Time: 1649249704385000 Max: 2\n",
      "-3\n",
      "0\n",
      "-- Topic: grupo2-bancadaB1/S2 Time: 1649249704385000 Max: 2\n",
      "-3\n",
      "0\n",
      "-- Topic: grupo2-bancadaB1/S3 Time: 1649249704386000 Max: 2\n",
      "-3\n",
      "0\n",
      "-- Topic: grupo2-bancadaB1/S3 Time: 1649249704386000 Max: 2\n",
      "-3\n",
      "0\n",
      "-- Topic: grupo2-bancadaB1/S2 Time: 1649249704387000 Max: 2\n",
      "-3\n",
      "0\n",
      "-- Topic: grupo2-bancadaB1/S2 Time: 1649249704387000 Max: 2\n",
      "-3\n",
      "0\n",
      "-- Topic: grupo2-bancadaB1/S1 Time: 1649249848208000 Max: 2\n",
      "-3\n",
      "0\n",
      "-- Topic: grupo2-bancadaB1/S1 Time: 1649249848208000 Max: 2\n",
      "-3\n",
      "0\n",
      "-- Topic: grupo2-bancadaB1/S0 Time: 1649249868106000 Max: 2\n",
      "-3\n",
      "0\n",
      "-- Topic: grupo2-bancadaB1/S0 Time: 1649249868106000 Max: 2\n",
      "-3\n",
      "0\n",
      "-- Topic: grupo2-bancadaB1/S2 Time: 1649249881549000 Max: 2\n",
      "-3\n",
      "0\n",
      "-- Topic: grupo2-bancadaB1/S2 Time: 1649249881549000 Max: 2\n",
      "-3\n",
      "0\n",
      "-- Topic: grupo2-bancadaB1/S3 Time: 1649249881551000 Max: 2\n",
      "-3\n",
      "0\n",
      "-- Topic: grupo2-bancadaB1/S3 Time: 1649249881551000 Max: 2\n",
      "-3\n",
      "0\n",
      "-- Topic: grupo2-bancadaB1/S2 Time: 1649249881551000 Max: 2\n",
      "-3\n",
      "0\n",
      "-- Topic: grupo2-bancadaB1/S2 Time: 1649249881551000 Max: 2\n",
      "-3\n",
      "0\n",
      "-- Topic: grupo2-bancadaB1/S1 Time: 1649249881552000 Max: 2\n",
      "-3\n",
      "0\n",
      "-- Topic: grupo2-bancadaB1/S1 Time: 1649249881552000 Max: 2\n",
      "-3\n",
      "0\n",
      "-- Topic: grupo2-bancadaB1/S0 Time: 1649249881751000 Max: 2\n",
      "-3\n",
      "0\n",
      "-- Topic: grupo2-bancadaB1/S0 Time: 1649249881751000 Max: 2\n",
      "-3\n",
      "0\n",
      "-- Topic: grupo2-bancadaB1/S1 Time: 1649249881755000 Max: 2\n",
      "-3\n",
      "0\n",
      "-- Topic: grupo2-bancadaB1/S1 Time: 1649249881755000 Max: 2\n",
      "-3\n",
      "0\n",
      "-- Topic: grupo2-bancadaB1/S1 Time: 1649249894886000 Max: 2\n",
      "-3\n",
      "0\n",
      "-- Topic: grupo2-bancadaB1/S1 Time: 1649249894886000 Max: 2\n",
      "-3\n",
      "0\n",
      "-- Topic: grupo2-bancadaB1/S2 Time: 1649249937834000 Max: 2\n",
      "-3\n",
      "0\n",
      "-- Topic: grupo2-bancadaB1/S2 Time: 1649249937834000 Max: 2\n",
      "-3\n",
      "0\n",
      "-- Topic: grupo2-bancadaB1/S0 Time: 1649249988228000 Max: 3\n",
      "-4\n",
      "-3\n",
      "3\n",
      "-- Topic: grupo2-bancadaB1/S5 Time: 1649249988228000 Max: 2\n",
      "-3\n",
      "0\n",
      "-- Topic: grupo2-bancadaB1/S0 Time: 1649249988228000 Max: 3\n",
      "-4\n",
      "-3\n",
      "3\n",
      "-- Topic: grupo2-bancadaB1/S5 Time: 1649249988228000 Max: 2\n",
      "-3\n",
      "0\n",
      "-- Topic: grupo2-bancadaB1/S0 Time: 1649249988228000 Max: 3\n",
      "-4\n",
      "-3\n",
      "3\n",
      "-- Topic: grupo2-bancadaB1/S1 Time: 1649249988228000 Max: 2\n",
      "-3\n",
      "0\n",
      "-- Topic: grupo2-bancadaB1/S1 Time: 1649249988228000 Max: 2\n",
      "-3\n",
      "0\n",
      "-- Topic: grupo2-bancadaB1/S2 Time: 1649249990140000 Max: 2\n",
      "-3\n",
      "0\n",
      "-- Topic: grupo2-bancadaB1/S2 Time: 1649249990140000 Max: 2\n",
      "-3\n",
      "0\n",
      "-- Topic: grupo2-bancadaB1/S2 Time: 1649250000457000 Max: 2\n",
      "-3\n",
      "0\n",
      "-- Topic: grupo2-bancadaB1/S2 Time: 1649250000457000 Max: 2\n",
      "-3\n",
      "0\n",
      "-- Topic: grupo2-bancadaB1/S3 Time: 1649250000657000 Max: 2\n",
      "-3\n",
      "0\n",
      "-- Topic: grupo2-bancadaB1/S3 Time: 1649250000657000 Max: 2\n",
      "-3\n",
      "0\n",
      "-- Topic: grupo2-bancadaB1/S2 Time: 1649250000863000 Max: 2\n",
      "-3\n",
      "0\n",
      "-- Topic: grupo2-bancadaB1/S2 Time: 1649250000863000 Max: 2\n",
      "-3\n",
      "0\n",
      "-- Topic: grupo2-bancadaB1/S1 Time: 1649250005700000 Max: 2\n",
      "-3\n",
      "0\n",
      "-- Topic: grupo2-bancadaB1/S1 Time: 1649250005700000 Max: 2\n",
      "-3\n",
      "0\n",
      "-- Topic: grupo2-bancadaB1/S2 Time: 1649250005903000 Max: 2\n",
      "-3\n",
      "0\n",
      "-- Topic: grupo2-bancadaB1/S2 Time: 1649250005903000 Max: 2\n",
      "-3\n",
      "0\n",
      "-- Topic: grupo2-bancadaB1/S3 Time: 1649250006120000 Max: 2\n",
      "-3\n",
      "0\n",
      "-- Topic: grupo2-bancadaB1/S3 Time: 1649250006120000 Max: 2\n",
      "-3\n",
      "0\n",
      "-- Topic: grupo2-bancadaB1/S2 Time: 1649250006318000 Max: 2\n",
      "-3\n",
      "0\n",
      "-- Topic: grupo2-bancadaB1/S2 Time: 1649250006318000 Max: 2\n",
      "-3\n",
      "0\n",
      "-- Topic: grupo2-bancadaB1/S2"
     ]
    },
    {
     "name": "stderr",
     "output_type": "stream",
     "text": [
      "<ipython-input-69-fd227e8446c2>:16: SettingWithCopyWarning:\n",
      "\n",
      "\n",
      "A value is trying to be set on a copy of a slice from a DataFrame\n",
      "\n",
      "See the caveats in the documentation: https://pandas.pydata.org/pandas-docs/stable/user_guide/indexing.html#returning-a-view-versus-a-copy\n",
      "\n",
      "<ipython-input-69-fd227e8446c2>:19: SettingWithCopyWarning:\n",
      "\n",
      "\n",
      "A value is trying to be set on a copy of a slice from a DataFrame\n",
      "\n",
      "See the caveats in the documentation: https://pandas.pydata.org/pandas-docs/stable/user_guide/indexing.html#returning-a-view-versus-a-copy\n",
      "\n",
      "<ipython-input-69-fd227e8446c2>:22: SettingWithCopyWarning:\n",
      "\n",
      "\n",
      "A value is trying to be set on a copy of a slice from a DataFrame\n",
      "\n",
      "See the caveats in the documentation: https://pandas.pydata.org/pandas-docs/stable/user_guide/indexing.html#returning-a-view-versus-a-copy\n",
      "\n"
     ]
    },
    {
     "name": "stdout",
     "output_type": "stream",
     "text": [
      " Time: 1649250110333000 Max: 2\n",
      "-3\n",
      "0\n",
      "-- Topic: grupo2-bancadaB1/S2 Time: 1649250110333000 Max: 2\n",
      "-3\n",
      "0\n",
      "-- Topic: grupo2-bancadaB1/S2 Time: 1649250116958000 Max: 2\n",
      "-3\n",
      "0\n",
      "-- Topic: grupo2-bancadaB1/S2 Time: 1649250116958000 Max: 2\n",
      "-3\n",
      "0\n",
      "-- Topic: grupo2-bancadaB1/S1 Time: 1649250120905000 Max: 2\n",
      "-3\n",
      "0\n",
      "-- Topic: grupo2-bancadaB1/S1 Time: 1649250120905000 Max: 2\n",
      "-3\n",
      "0\n",
      "-- Topic: grupo2-bancadaB1/S3 Time: 1649250121337000 Max: 2\n",
      "-3\n",
      "0\n",
      "-- Topic: grupo2-bancadaB1/S3 Time: 1649250121337000 Max: 2\n",
      "-3\n",
      "0\n",
      "-- Topic: grupo2-bancadaB1/S1 Time: 1649250126544000 Max: 2\n",
      "-3\n",
      "0\n",
      "-- Topic: grupo2-bancadaB1/S1 Time: 1649250126544000 Max: 2\n",
      "-3\n",
      "0\n",
      "-- Topic: grupo2-bancadaB1/S3 Time: 1649250126978000 Max: 2\n",
      "-3\n",
      "0\n",
      "-- Topic: grupo2-bancadaB1/S3 Time: 1649250126978000 Max: 2\n",
      "-3\n",
      "0\n",
      "-- Topic: grupo2-bancadaB1/S1 Time: 1649250127444000 Max: 2\n",
      "-3\n",
      "0\n",
      "-- Topic: grupo2-bancadaB1/S1 Time: 1649250127444000 Max: 2\n",
      "-3\n",
      "0\n",
      "-- Topic: grupo2-bancadaB1/S3 Time: 1649250134044000 Max: 2\n",
      "-3\n",
      "0\n",
      "-- Topic: grupo2-bancadaB1/S3 Time: 1649250134044000 Max: 2\n",
      "-3\n",
      "0\n",
      "-- Topic: grupo2-bancadaB1/S0 Time: 1649250134828000 Max: 2\n",
      "-3\n",
      "0\n",
      "-- Topic: grupo2-bancadaB1/S0 Time: 1649250134828000 Max: 2\n",
      "-3\n",
      "0\n",
      "-- Topic: grupo2-bancadaB1/S2 Time: 1649250493213000 Max: 2\n",
      "-3\n",
      "0\n",
      "-- Topic: grupo2-bancadaB1/S2 Time: 1649250493213000 Max: 2\n",
      "-3\n",
      "0\n"
     ]
    }
   ],
   "source": [
    "topics_times = tmp_df[['topic', 'time']].drop_duplicates()\n",
    "topics_ = list(tmp_df['topic'])\n",
    "times_ = list(tmp_df['time'])\n",
    "\n",
    "# move os tempos alguns milisegundos para cima ou para baixo\n",
    "for topic_, time_ in zip(topics_, times_):\n",
    "\tvalues_to_replace = []\n",
    "\tfiltered_df = tmp_df[(tmp_df['topic'] == topic_) & (tmp_df['time'] == time_)]\n",
    "\n",
    "\tmax_ = len(filtered_df)\n",
    "\tprint(\"-- Topic:\", topic_, \"Time:\", time_, \"Max:\", max_)\n",
    "\tfor i in range(max_):\n",
    "\t\tindex = filtered_df.iloc[i].name\n",
    "\t\tif i < max_/2:\n",
    "\t\t\tprint((max_-i+1)*-1)\n",
    "\t\t\tdf['time'][index] = filtered_df.iloc[i]['time'] + (max_-i+1)*-1\n",
    "\t\tif i == max_/2:\n",
    "\t\t\tprint(0)\n",
    "\t\t\tdf['time'][index] = filtered_df.iloc[i]['time'] + 0\n",
    "\t\tif i > max_/2:\n",
    "\t\t\tprint((i+1)*1)\n",
    "\t\t\tdf['time'][index] = filtered_df.iloc[i]['time'] + (i+1)*1\n"
   ]
  },
  {
   "cell_type": "code",
   "execution_count": 70,
   "metadata": {},
   "outputs": [
    {
     "name": "stdout",
     "output_type": "stream",
     "text": [
      "grupo2-bancadaB1/hello\n",
      "grupo2-bancadaB1/E2\n",
      "grupo2-bancadaB1/S4\n",
      "grupo2-bancadaB1/E3\n",
      "grupo2-bancadaB1/S0\n",
      "grupo2-bancadaB1/S5\n",
      "grupo2-bancadaB1/S1\n",
      "grupo2-bancadaB1/E4\n",
      "grupo2-bancadaB1/S2\n",
      "grupo2-bancadaB1/S7\n",
      "grupo2-bancadaB1/E5\n",
      "grupo2-bancadaB1/S3\n",
      "grupo2-bancadaB1/E6\n",
      "grupo2-bancadaB1/E1\n",
      "grupo2-bancadaB1/S6\n"
     ]
    }
   ],
   "source": [
    "list_of_dfs = []\n",
    "for topic in list(df['topic'].unique()):\n",
    "\tprint(topic)\n",
    "\ttmp_df = pd.pivot(df[df['topic'] == topic], columns=['topic'], index=['time'], values=['value'])\n",
    "\tlist_of_dfs.append(tmp_df)"
   ]
  },
  {
   "cell_type": "code",
   "execution_count": 71,
   "metadata": {},
   "outputs": [],
   "source": [
    "for i in range(len(list_of_dfs)):\n",
    "\tlist_of_dfs[i] = list_of_dfs[i]['value']"
   ]
  },
  {
   "cell_type": "code",
   "execution_count": 72,
   "metadata": {},
   "outputs": [],
   "source": [
    "# import reduce from functools\n",
    "from functools import reduce\n",
    "merged_df = reduce(lambda  left,right: pd.merge(left,right,left_index=True, right_index=True, how='outer'), list_of_dfs)"
   ]
  },
  {
   "cell_type": "code",
   "execution_count": 73,
   "metadata": {},
   "outputs": [],
   "source": [
    "merged_df = merged_df.sort_index().ffill()"
   ]
  },
  {
   "cell_type": "code",
   "execution_count": 74,
   "metadata": {},
   "outputs": [],
   "source": [
    "merged_df = merged_df.set_index(pd.to_datetime(merged_df.index, unit='us'), drop=True)"
   ]
  },
  {
   "cell_type": "code",
   "execution_count": 203,
   "metadata": {},
   "outputs": [],
   "source": [
    "def get_cleaned_df(df, topic, time_window='250ms'):\n",
    "\ttmp0 = df[(df['topic'] == topic) & (df['value'] == '0')].resample(time_window).first().dropna()\n",
    "\ttmp1 = df[(df['topic'] == topic) & (df['value'] == '1')].resample(time_window).first().dropna()\n",
    "\treturn pd.concat([tmp0, tmp1], axis=0).sort_index()"
   ]
  },
  {
   "cell_type": "code",
   "execution_count": 161,
   "metadata": {},
   "outputs": [],
   "source": [
    "df2 = df\n",
    "df = df[df['topic'] !='grupo2-bancadaB1/hello']"
   ]
  },
  {
   "cell_type": "code",
   "execution_count": null,
   "metadata": {},
   "outputs": [],
   "source": [
    "df = df.set_index(pd.to_datetime(df['time'], unit='us'), drop=True)"
   ]
  },
  {
   "cell_type": "markdown",
   "metadata": {},
   "source": [
    "# Análise dos Dados"
   ]
  },
  {
   "cell_type": "code",
   "execution_count": 346,
   "metadata": {},
   "outputs": [],
   "source": [
    "def get_tmp_concat(df):\n",
    "\ttmp = get_cleaned_df(df, 'grupo2-bancadaB1/S4')\n",
    "\n",
    "\tif tmp.iloc[0]['value'] == '0':\n",
    "\t\ttmp = tmp.iloc[1:]\n",
    "\n",
    "\t# is even\n",
    "\tif len(tmp) % 2 == 0:\n",
    "\t\tpass\n",
    "\t# is odd\n",
    "\telse:\n",
    "\t\ttmp = tmp.iloc[0:len(tmp)-1]\n",
    "\n",
    "\ttmp1 = tmp[tmp['value'] == '1']['datetime']\n",
    "\ttmp0 = tmp[tmp['value'] == '0']['datetime']\n",
    "\n",
    "\ttmp1.reset_index(drop=True, inplace=True)\n",
    "\ttmp1.name = 'datetime_1'\n",
    "\n",
    "\ttmp0.reset_index(drop=True, inplace=True)\n",
    "\ttmp0.name = 'datetime_0'\n",
    "\n",
    "\ttmp_concat = pd.concat([tmp1, tmp0], axis=1)\n",
    "\n",
    "\ttmp_concat['timedelta'] = (tmp_concat['datetime_0']-tmp_concat['datetime_1']).dt.total_seconds()\n",
    "\n",
    "\treturn tmp_concat"
   ]
  },
  {
   "cell_type": "code",
   "execution_count": 347,
   "metadata": {},
   "outputs": [],
   "source": [
    "def get_modos_jogo_escolhidos(df):\n",
    "\n",
    "\ttmp_concat = get_tmp_concat(df)\n",
    "\tmodos_jogo_escolhidos = []\n",
    "\tfor i in range(len(tmp_concat)):\n",
    "\t\ttry:\n",
    "\t\t\tsliced_df = df[(df['datetime'] > tmp_concat['datetime_1'].iloc[i]) & (df['datetime'] < tmp_concat['datetime_0'].iloc[i])]\n",
    "\t\t\tsliced_df = sliced_df[sliced_df['topic'].isin(['grupo2-bancadaB1/E3', 'grupo2-bancadaB1/E4', 'grupo2-bancadaB1/E5', 'grupo2-bancadaB1/E6'])]\n",
    "\t\t\ttopic = sliced_df[sliced_df['value'] == '1']['topic'].iloc[0]\n",
    "\t\t\tdatetime_ = sliced_df[sliced_df['value'] == '1']['datetime'].iloc[0]\n",
    "\t\t\tmodos_jogo_escolhidos.append({'topic': topic, 'datetime': datetime_, 'num': i+1})\n",
    "\t\texcept:\n",
    "\t\t\tmodos_jogo_escolhidos.append({'topic': None, 'datetime': None, 'num': i+1})\n",
    "\t\n",
    "\treturn modos_jogo_escolhidos"
   ]
  },
  {
   "cell_type": "code",
   "execution_count": 357,
   "metadata": {},
   "outputs": [],
   "source": [
    "modos = pd.DataFrame(get_modos_jogo_escolhidos(df))\n",
    "\n",
    "modos['label'] = modos['topic'].apply(lambda x: \"Erro no jogo\" if x is None else \"Modo 1\" if \"E3\" in x else \"Modo 2\" if \"E4\" in x else \"Modo 3\" if \"E5\" in x else \"Modo 4\")"
   ]
  },
  {
   "cell_type": "code",
   "execution_count": 358,
   "metadata": {},
   "outputs": [],
   "source": [
    "modos = modos[['datetime', 'label']]"
   ]
  },
  {
   "cell_type": "code",
   "execution_count": 360,
   "metadata": {},
   "outputs": [],
   "source": [
    "modos.columns = ['time', 'label']"
   ]
  },
  {
   "cell_type": "code",
   "execution_count": 368,
   "metadata": {},
   "outputs": [],
   "source": [
    "fig = go.Figure(data=[go.Table(\n",
    "    header=dict(values=list(modos.columns),\n",
    "                fill_color='grey',\n",
    "\t\t\t\tline_color='darkslategray',\n",
    "\t\t\t\tfont={'color': 'white'},\n",
    "                align='center'),\n",
    "    cells=dict(values=[modos.time, modos.label],\n",
    "               fill_color='lightgrey',\n",
    "               align='center',\n",
    "\t\t\t   line_color='darkslategray',\n",
    "\t\t\t   font={'color': 'black'}\n",
    "\t\t\t   )\n",
    "\t\t\t)\n",
    "])\n",
    "\n",
    "fig"
   ]
  },
  {
   "cell_type": "code",
   "execution_count": 363,
   "metadata": {},
   "outputs": [],
   "source": [
    "statistics = pd.DataFrame(get_tmp_concat(df)['timedelta'].describe()).reset_index()\n",
    "statistics.columns = ['description', 'value']"
   ]
  },
  {
   "cell_type": "code",
   "execution_count": 365,
   "metadata": {},
   "outputs": [
    {
     "data": {
      "application/vnd.plotly.v1+json": {
       "config": {
        "plotlyServerURL": "https://plot.ly"
       },
       "data": [
        {
         "cells": {
          "align": "center",
          "fill": {
           "color": "lightgrey"
          },
          "font": {
           "color": "black"
          },
          "line": {
           "color": "darkslategray"
          },
          "values": [
           [
            "count",
            "mean",
            "std",
            "min",
            "25%",
            "50%",
            "75%",
            "max"
           ],
           [
            16,
            107.04175000000002,
            263.2337688786655,
            1.238,
            1.9715,
            2.6990000000000003,
            22.01075,
            924.3810000000001
           ]
          ]
         },
         "header": {
          "align": "center",
          "fill": {
           "color": "grey"
          },
          "font": {
           "color": "white"
          },
          "line": {
           "color": "darkslategray"
          },
          "values": [
           "description",
           "value"
          ]
         },
         "type": "table"
        }
       ],
       "layout": {
        "template": {
         "data": {
          "bar": [
           {
            "error_x": {
             "color": "#2a3f5f"
            },
            "error_y": {
             "color": "#2a3f5f"
            },
            "marker": {
             "line": {
              "color": "#E5ECF6",
              "width": 0.5
             },
             "pattern": {
              "fillmode": "overlay",
              "size": 10,
              "solidity": 0.2
             }
            },
            "type": "bar"
           }
          ],
          "barpolar": [
           {
            "marker": {
             "line": {
              "color": "#E5ECF6",
              "width": 0.5
             },
             "pattern": {
              "fillmode": "overlay",
              "size": 10,
              "solidity": 0.2
             }
            },
            "type": "barpolar"
           }
          ],
          "carpet": [
           {
            "aaxis": {
             "endlinecolor": "#2a3f5f",
             "gridcolor": "white",
             "linecolor": "white",
             "minorgridcolor": "white",
             "startlinecolor": "#2a3f5f"
            },
            "baxis": {
             "endlinecolor": "#2a3f5f",
             "gridcolor": "white",
             "linecolor": "white",
             "minorgridcolor": "white",
             "startlinecolor": "#2a3f5f"
            },
            "type": "carpet"
           }
          ],
          "choropleth": [
           {
            "colorbar": {
             "outlinewidth": 0,
             "ticks": ""
            },
            "type": "choropleth"
           }
          ],
          "contour": [
           {
            "colorbar": {
             "outlinewidth": 0,
             "ticks": ""
            },
            "colorscale": [
             [
              0,
              "#0d0887"
             ],
             [
              0.1111111111111111,
              "#46039f"
             ],
             [
              0.2222222222222222,
              "#7201a8"
             ],
             [
              0.3333333333333333,
              "#9c179e"
             ],
             [
              0.4444444444444444,
              "#bd3786"
             ],
             [
              0.5555555555555556,
              "#d8576b"
             ],
             [
              0.6666666666666666,
              "#ed7953"
             ],
             [
              0.7777777777777778,
              "#fb9f3a"
             ],
             [
              0.8888888888888888,
              "#fdca26"
             ],
             [
              1,
              "#f0f921"
             ]
            ],
            "type": "contour"
           }
          ],
          "contourcarpet": [
           {
            "colorbar": {
             "outlinewidth": 0,
             "ticks": ""
            },
            "type": "contourcarpet"
           }
          ],
          "heatmap": [
           {
            "colorbar": {
             "outlinewidth": 0,
             "ticks": ""
            },
            "colorscale": [
             [
              0,
              "#0d0887"
             ],
             [
              0.1111111111111111,
              "#46039f"
             ],
             [
              0.2222222222222222,
              "#7201a8"
             ],
             [
              0.3333333333333333,
              "#9c179e"
             ],
             [
              0.4444444444444444,
              "#bd3786"
             ],
             [
              0.5555555555555556,
              "#d8576b"
             ],
             [
              0.6666666666666666,
              "#ed7953"
             ],
             [
              0.7777777777777778,
              "#fb9f3a"
             ],
             [
              0.8888888888888888,
              "#fdca26"
             ],
             [
              1,
              "#f0f921"
             ]
            ],
            "type": "heatmap"
           }
          ],
          "heatmapgl": [
           {
            "colorbar": {
             "outlinewidth": 0,
             "ticks": ""
            },
            "colorscale": [
             [
              0,
              "#0d0887"
             ],
             [
              0.1111111111111111,
              "#46039f"
             ],
             [
              0.2222222222222222,
              "#7201a8"
             ],
             [
              0.3333333333333333,
              "#9c179e"
             ],
             [
              0.4444444444444444,
              "#bd3786"
             ],
             [
              0.5555555555555556,
              "#d8576b"
             ],
             [
              0.6666666666666666,
              "#ed7953"
             ],
             [
              0.7777777777777778,
              "#fb9f3a"
             ],
             [
              0.8888888888888888,
              "#fdca26"
             ],
             [
              1,
              "#f0f921"
             ]
            ],
            "type": "heatmapgl"
           }
          ],
          "histogram": [
           {
            "marker": {
             "pattern": {
              "fillmode": "overlay",
              "size": 10,
              "solidity": 0.2
             }
            },
            "type": "histogram"
           }
          ],
          "histogram2d": [
           {
            "colorbar": {
             "outlinewidth": 0,
             "ticks": ""
            },
            "colorscale": [
             [
              0,
              "#0d0887"
             ],
             [
              0.1111111111111111,
              "#46039f"
             ],
             [
              0.2222222222222222,
              "#7201a8"
             ],
             [
              0.3333333333333333,
              "#9c179e"
             ],
             [
              0.4444444444444444,
              "#bd3786"
             ],
             [
              0.5555555555555556,
              "#d8576b"
             ],
             [
              0.6666666666666666,
              "#ed7953"
             ],
             [
              0.7777777777777778,
              "#fb9f3a"
             ],
             [
              0.8888888888888888,
              "#fdca26"
             ],
             [
              1,
              "#f0f921"
             ]
            ],
            "type": "histogram2d"
           }
          ],
          "histogram2dcontour": [
           {
            "colorbar": {
             "outlinewidth": 0,
             "ticks": ""
            },
            "colorscale": [
             [
              0,
              "#0d0887"
             ],
             [
              0.1111111111111111,
              "#46039f"
             ],
             [
              0.2222222222222222,
              "#7201a8"
             ],
             [
              0.3333333333333333,
              "#9c179e"
             ],
             [
              0.4444444444444444,
              "#bd3786"
             ],
             [
              0.5555555555555556,
              "#d8576b"
             ],
             [
              0.6666666666666666,
              "#ed7953"
             ],
             [
              0.7777777777777778,
              "#fb9f3a"
             ],
             [
              0.8888888888888888,
              "#fdca26"
             ],
             [
              1,
              "#f0f921"
             ]
            ],
            "type": "histogram2dcontour"
           }
          ],
          "mesh3d": [
           {
            "colorbar": {
             "outlinewidth": 0,
             "ticks": ""
            },
            "type": "mesh3d"
           }
          ],
          "parcoords": [
           {
            "line": {
             "colorbar": {
              "outlinewidth": 0,
              "ticks": ""
             }
            },
            "type": "parcoords"
           }
          ],
          "pie": [
           {
            "automargin": true,
            "type": "pie"
           }
          ],
          "scatter": [
           {
            "marker": {
             "colorbar": {
              "outlinewidth": 0,
              "ticks": ""
             }
            },
            "type": "scatter"
           }
          ],
          "scatter3d": [
           {
            "line": {
             "colorbar": {
              "outlinewidth": 0,
              "ticks": ""
             }
            },
            "marker": {
             "colorbar": {
              "outlinewidth": 0,
              "ticks": ""
             }
            },
            "type": "scatter3d"
           }
          ],
          "scattercarpet": [
           {
            "marker": {
             "colorbar": {
              "outlinewidth": 0,
              "ticks": ""
             }
            },
            "type": "scattercarpet"
           }
          ],
          "scattergeo": [
           {
            "marker": {
             "colorbar": {
              "outlinewidth": 0,
              "ticks": ""
             }
            },
            "type": "scattergeo"
           }
          ],
          "scattergl": [
           {
            "marker": {
             "colorbar": {
              "outlinewidth": 0,
              "ticks": ""
             }
            },
            "type": "scattergl"
           }
          ],
          "scattermapbox": [
           {
            "marker": {
             "colorbar": {
              "outlinewidth": 0,
              "ticks": ""
             }
            },
            "type": "scattermapbox"
           }
          ],
          "scatterpolar": [
           {
            "marker": {
             "colorbar": {
              "outlinewidth": 0,
              "ticks": ""
             }
            },
            "type": "scatterpolar"
           }
          ],
          "scatterpolargl": [
           {
            "marker": {
             "colorbar": {
              "outlinewidth": 0,
              "ticks": ""
             }
            },
            "type": "scatterpolargl"
           }
          ],
          "scatterternary": [
           {
            "marker": {
             "colorbar": {
              "outlinewidth": 0,
              "ticks": ""
             }
            },
            "type": "scatterternary"
           }
          ],
          "surface": [
           {
            "colorbar": {
             "outlinewidth": 0,
             "ticks": ""
            },
            "colorscale": [
             [
              0,
              "#0d0887"
             ],
             [
              0.1111111111111111,
              "#46039f"
             ],
             [
              0.2222222222222222,
              "#7201a8"
             ],
             [
              0.3333333333333333,
              "#9c179e"
             ],
             [
              0.4444444444444444,
              "#bd3786"
             ],
             [
              0.5555555555555556,
              "#d8576b"
             ],
             [
              0.6666666666666666,
              "#ed7953"
             ],
             [
              0.7777777777777778,
              "#fb9f3a"
             ],
             [
              0.8888888888888888,
              "#fdca26"
             ],
             [
              1,
              "#f0f921"
             ]
            ],
            "type": "surface"
           }
          ],
          "table": [
           {
            "cells": {
             "fill": {
              "color": "#EBF0F8"
             },
             "line": {
              "color": "white"
             }
            },
            "header": {
             "fill": {
              "color": "#C8D4E3"
             },
             "line": {
              "color": "white"
             }
            },
            "type": "table"
           }
          ]
         },
         "layout": {
          "annotationdefaults": {
           "arrowcolor": "#2a3f5f",
           "arrowhead": 0,
           "arrowwidth": 1
          },
          "autotypenumbers": "strict",
          "coloraxis": {
           "colorbar": {
            "outlinewidth": 0,
            "ticks": ""
           }
          },
          "colorscale": {
           "diverging": [
            [
             0,
             "#8e0152"
            ],
            [
             0.1,
             "#c51b7d"
            ],
            [
             0.2,
             "#de77ae"
            ],
            [
             0.3,
             "#f1b6da"
            ],
            [
             0.4,
             "#fde0ef"
            ],
            [
             0.5,
             "#f7f7f7"
            ],
            [
             0.6,
             "#e6f5d0"
            ],
            [
             0.7,
             "#b8e186"
            ],
            [
             0.8,
             "#7fbc41"
            ],
            [
             0.9,
             "#4d9221"
            ],
            [
             1,
             "#276419"
            ]
           ],
           "sequential": [
            [
             0,
             "#0d0887"
            ],
            [
             0.1111111111111111,
             "#46039f"
            ],
            [
             0.2222222222222222,
             "#7201a8"
            ],
            [
             0.3333333333333333,
             "#9c179e"
            ],
            [
             0.4444444444444444,
             "#bd3786"
            ],
            [
             0.5555555555555556,
             "#d8576b"
            ],
            [
             0.6666666666666666,
             "#ed7953"
            ],
            [
             0.7777777777777778,
             "#fb9f3a"
            ],
            [
             0.8888888888888888,
             "#fdca26"
            ],
            [
             1,
             "#f0f921"
            ]
           ],
           "sequentialminus": [
            [
             0,
             "#0d0887"
            ],
            [
             0.1111111111111111,
             "#46039f"
            ],
            [
             0.2222222222222222,
             "#7201a8"
            ],
            [
             0.3333333333333333,
             "#9c179e"
            ],
            [
             0.4444444444444444,
             "#bd3786"
            ],
            [
             0.5555555555555556,
             "#d8576b"
            ],
            [
             0.6666666666666666,
             "#ed7953"
            ],
            [
             0.7777777777777778,
             "#fb9f3a"
            ],
            [
             0.8888888888888888,
             "#fdca26"
            ],
            [
             1,
             "#f0f921"
            ]
           ]
          },
          "colorway": [
           "#636efa",
           "#EF553B",
           "#00cc96",
           "#ab63fa",
           "#FFA15A",
           "#19d3f3",
           "#FF6692",
           "#B6E880",
           "#FF97FF",
           "#FECB52"
          ],
          "font": {
           "color": "#2a3f5f"
          },
          "geo": {
           "bgcolor": "white",
           "lakecolor": "white",
           "landcolor": "#E5ECF6",
           "showlakes": true,
           "showland": true,
           "subunitcolor": "white"
          },
          "hoverlabel": {
           "align": "left"
          },
          "hovermode": "closest",
          "mapbox": {
           "style": "light"
          },
          "paper_bgcolor": "white",
          "plot_bgcolor": "#E5ECF6",
          "polar": {
           "angularaxis": {
            "gridcolor": "white",
            "linecolor": "white",
            "ticks": ""
           },
           "bgcolor": "#E5ECF6",
           "radialaxis": {
            "gridcolor": "white",
            "linecolor": "white",
            "ticks": ""
           }
          },
          "scene": {
           "xaxis": {
            "backgroundcolor": "#E5ECF6",
            "gridcolor": "white",
            "gridwidth": 2,
            "linecolor": "white",
            "showbackground": true,
            "ticks": "",
            "zerolinecolor": "white"
           },
           "yaxis": {
            "backgroundcolor": "#E5ECF6",
            "gridcolor": "white",
            "gridwidth": 2,
            "linecolor": "white",
            "showbackground": true,
            "ticks": "",
            "zerolinecolor": "white"
           },
           "zaxis": {
            "backgroundcolor": "#E5ECF6",
            "gridcolor": "white",
            "gridwidth": 2,
            "linecolor": "white",
            "showbackground": true,
            "ticks": "",
            "zerolinecolor": "white"
           }
          },
          "shapedefaults": {
           "line": {
            "color": "#2a3f5f"
           }
          },
          "ternary": {
           "aaxis": {
            "gridcolor": "white",
            "linecolor": "white",
            "ticks": ""
           },
           "baxis": {
            "gridcolor": "white",
            "linecolor": "white",
            "ticks": ""
           },
           "bgcolor": "#E5ECF6",
           "caxis": {
            "gridcolor": "white",
            "linecolor": "white",
            "ticks": ""
           }
          },
          "title": {
           "x": 0.05
          },
          "xaxis": {
           "automargin": true,
           "gridcolor": "white",
           "linecolor": "white",
           "ticks": "",
           "title": {
            "standoff": 15
           },
           "zerolinecolor": "white",
           "zerolinewidth": 2
          },
          "yaxis": {
           "automargin": true,
           "gridcolor": "white",
           "linecolor": "white",
           "ticks": "",
           "title": {
            "standoff": 15
           },
           "zerolinecolor": "white",
           "zerolinewidth": 2
          }
         }
        }
       }
      }
     },
     "metadata": {},
     "output_type": "display_data"
    }
   ],
   "source": [
    "fig = go.Figure(data=[go.Table(\n",
    "    header=dict(values=list(statistics.columns),\n",
    "                fill_color='grey',\n",
    "\t\t\t\tline_color='darkslategray',\n",
    "\t\t\t\tfont={'color': 'white'},\n",
    "                align='center'),\n",
    "    cells=dict(values=[statistics.description, statistics.value],\n",
    "               fill_color='lightgrey',\n",
    "               align='center',\n",
    "\t\t\t   line_color='darkslategray',\n",
    "\t\t\t   font={'color': 'black'}\n",
    "\t\t\t   )\n",
    "\t\t\t)\n",
    "])\n",
    "\n",
    "fig"
   ]
  },
  {
   "cell_type": "markdown",
   "metadata": {},
   "source": [
    "## Número de Jogadas"
   ]
  },
  {
   "cell_type": "code",
   "execution_count": 270,
   "metadata": {},
   "outputs": [
    {
     "data": {
      "text/plain": [
       "17"
      ]
     },
     "execution_count": 270,
     "metadata": {},
     "output_type": "execute_result"
    }
   ],
   "source": [
    "# num_jogadas = df[(df['topic'] == 'grupo2-bancadaB1/S4') & (df['value'] == '1')]['time'].count()\n",
    "\n",
    "jogadas = get_cleaned_df(df, 'grupo2-bancadaB1/S4', time_window='2s')\n",
    "num_jogadas = len(jogadas[jogadas['value'] == '1'])\n",
    "\n",
    "num_jogadas"
   ]
  },
  {
   "cell_type": "markdown",
   "metadata": {},
   "source": [
    "## numero vezes que perdeu"
   ]
  },
  {
   "cell_type": "code",
   "execution_count": 265,
   "metadata": {},
   "outputs": [
    {
     "data": {
      "text/plain": [
       "17"
      ]
     },
     "execution_count": 265,
     "metadata": {},
     "output_type": "execute_result"
    }
   ],
   "source": [
    "derrotas = get_cleaned_df(df, 'grupo2-bancadaB1/S7', time_window='2s')\n",
    "num_derrotas = len(derrotas[derrotas['value'] == '1'])\n",
    "\n",
    "num_derrotas"
   ]
  },
  {
   "cell_type": "code",
   "execution_count": 264,
   "metadata": {},
   "outputs": [
    {
     "data": {
      "text/html": [
       "<div>\n",
       "<style scoped>\n",
       "    .dataframe tbody tr th:only-of-type {\n",
       "        vertical-align: middle;\n",
       "    }\n",
       "\n",
       "    .dataframe tbody tr th {\n",
       "        vertical-align: top;\n",
       "    }\n",
       "\n",
       "    .dataframe thead th {\n",
       "        text-align: right;\n",
       "    }\n",
       "</style>\n",
       "<table border=\"1\" class=\"dataframe\">\n",
       "  <thead>\n",
       "    <tr style=\"text-align: right;\">\n",
       "      <th></th>\n",
       "      <th>topic</th>\n",
       "      <th>value</th>\n",
       "      <th>time</th>\n",
       "      <th>datetime</th>\n",
       "    </tr>\n",
       "    <tr>\n",
       "      <th>time</th>\n",
       "      <th></th>\n",
       "      <th></th>\n",
       "      <th></th>\n",
       "      <th></th>\n",
       "    </tr>\n",
       "  </thead>\n",
       "  <tbody>\n",
       "    <tr>\n",
       "      <th>2022-04-06 12:37:20</th>\n",
       "      <td>grupo2-bancadaB1/S7</td>\n",
       "      <td>1</td>\n",
       "      <td>1.649249e+15</td>\n",
       "      <td>2022-04-06 12:37:20.334</td>\n",
       "    </tr>\n",
       "    <tr>\n",
       "      <th>2022-04-06 12:38:00</th>\n",
       "      <td>grupo2-bancadaB1/S7</td>\n",
       "      <td>1</td>\n",
       "      <td>1.649249e+15</td>\n",
       "      <td>2022-04-06 12:38:01.187</td>\n",
       "    </tr>\n",
       "    <tr>\n",
       "      <th>2022-04-06 12:38:06</th>\n",
       "      <td>grupo2-bancadaB1/S7</td>\n",
       "      <td>1</td>\n",
       "      <td>1.649249e+15</td>\n",
       "      <td>2022-04-06 12:38:06.271</td>\n",
       "    </tr>\n",
       "    <tr>\n",
       "      <th>2022-04-06 12:55:10</th>\n",
       "      <td>grupo2-bancadaB1/S7</td>\n",
       "      <td>1</td>\n",
       "      <td>1.649250e+15</td>\n",
       "      <td>2022-04-06 12:55:11.507</td>\n",
       "    </tr>\n",
       "    <tr>\n",
       "      <th>2022-04-06 12:56:34</th>\n",
       "      <td>grupo2-bancadaB1/S7</td>\n",
       "      <td>1</td>\n",
       "      <td>1.649250e+15</td>\n",
       "      <td>2022-04-06 12:56:34.162</td>\n",
       "    </tr>\n",
       "    <tr>\n",
       "      <th>2022-04-06 12:56:46</th>\n",
       "      <td>grupo2-bancadaB1/S7</td>\n",
       "      <td>1</td>\n",
       "      <td>1.649250e+15</td>\n",
       "      <td>2022-04-06 12:56:46.727</td>\n",
       "    </tr>\n",
       "    <tr>\n",
       "      <th>2022-04-06 12:56:58</th>\n",
       "      <td>grupo2-bancadaB1/S7</td>\n",
       "      <td>1</td>\n",
       "      <td>1.649250e+15</td>\n",
       "      <td>2022-04-06 12:56:58.157</td>\n",
       "    </tr>\n",
       "    <tr>\n",
       "      <th>2022-04-06 12:59:16</th>\n",
       "      <td>grupo2-bancadaB1/S7</td>\n",
       "      <td>1</td>\n",
       "      <td>1.649250e+15</td>\n",
       "      <td>2022-04-06 12:59:17.458</td>\n",
       "    </tr>\n",
       "    <tr>\n",
       "      <th>2022-04-06 12:59:36</th>\n",
       "      <td>grupo2-bancadaB1/S7</td>\n",
       "      <td>1</td>\n",
       "      <td>1.649250e+15</td>\n",
       "      <td>2022-04-06 12:59:36.443</td>\n",
       "    </tr>\n",
       "    <tr>\n",
       "      <th>2022-04-06 13:00:08</th>\n",
       "      <td>grupo2-bancadaB1/S7</td>\n",
       "      <td>1</td>\n",
       "      <td>1.649250e+15</td>\n",
       "      <td>2022-04-06 13:00:08.409</td>\n",
       "    </tr>\n",
       "    <tr>\n",
       "      <th>2022-04-06 13:01:42</th>\n",
       "      <td>grupo2-bancadaB1/S7</td>\n",
       "      <td>1</td>\n",
       "      <td>1.649250e+15</td>\n",
       "      <td>2022-04-06 13:01:43.729</td>\n",
       "    </tr>\n",
       "    <tr>\n",
       "      <th>2022-04-06 13:02:20</th>\n",
       "      <td>grupo2-bancadaB1/S7</td>\n",
       "      <td>1</td>\n",
       "      <td>1.649250e+15</td>\n",
       "      <td>2022-04-06 13:02:21.211</td>\n",
       "    </tr>\n",
       "    <tr>\n",
       "      <th>2022-04-06 13:04:14</th>\n",
       "      <td>grupo2-bancadaB1/S7</td>\n",
       "      <td>1</td>\n",
       "      <td>1.649250e+15</td>\n",
       "      <td>2022-04-06 13:04:14.887</td>\n",
       "    </tr>\n",
       "    <tr>\n",
       "      <th>2022-04-06 13:19:22</th>\n",
       "      <td>grupo2-bancadaB1/S7</td>\n",
       "      <td>1</td>\n",
       "      <td>1.649251e+15</td>\n",
       "      <td>2022-04-06 13:19:22.786</td>\n",
       "    </tr>\n",
       "    <tr>\n",
       "      <th>2022-04-06 13:19:44</th>\n",
       "      <td>grupo2-bancadaB1/S7</td>\n",
       "      <td>1</td>\n",
       "      <td>1.649251e+15</td>\n",
       "      <td>2022-04-06 13:19:45.452</td>\n",
       "    </tr>\n",
       "    <tr>\n",
       "      <th>2022-04-06 13:19:54</th>\n",
       "      <td>grupo2-bancadaB1/S7</td>\n",
       "      <td>1</td>\n",
       "      <td>1.649251e+15</td>\n",
       "      <td>2022-04-06 13:19:54.709</td>\n",
       "    </tr>\n",
       "    <tr>\n",
       "      <th>2022-04-06 13:20:38</th>\n",
       "      <td>grupo2-bancadaB1/S7</td>\n",
       "      <td>1</td>\n",
       "      <td>1.649251e+15</td>\n",
       "      <td>2022-04-06 13:20:39.740</td>\n",
       "    </tr>\n",
       "  </tbody>\n",
       "</table>\n",
       "</div>"
      ],
      "text/plain": [
       "                                   topic value          time  \\\n",
       "time                                                           \n",
       "2022-04-06 12:37:20  grupo2-bancadaB1/S7     1  1.649249e+15   \n",
       "2022-04-06 12:38:00  grupo2-bancadaB1/S7     1  1.649249e+15   \n",
       "2022-04-06 12:38:06  grupo2-bancadaB1/S7     1  1.649249e+15   \n",
       "2022-04-06 12:55:10  grupo2-bancadaB1/S7     1  1.649250e+15   \n",
       "2022-04-06 12:56:34  grupo2-bancadaB1/S7     1  1.649250e+15   \n",
       "2022-04-06 12:56:46  grupo2-bancadaB1/S7     1  1.649250e+15   \n",
       "2022-04-06 12:56:58  grupo2-bancadaB1/S7     1  1.649250e+15   \n",
       "2022-04-06 12:59:16  grupo2-bancadaB1/S7     1  1.649250e+15   \n",
       "2022-04-06 12:59:36  grupo2-bancadaB1/S7     1  1.649250e+15   \n",
       "2022-04-06 13:00:08  grupo2-bancadaB1/S7     1  1.649250e+15   \n",
       "2022-04-06 13:01:42  grupo2-bancadaB1/S7     1  1.649250e+15   \n",
       "2022-04-06 13:02:20  grupo2-bancadaB1/S7     1  1.649250e+15   \n",
       "2022-04-06 13:04:14  grupo2-bancadaB1/S7     1  1.649250e+15   \n",
       "2022-04-06 13:19:22  grupo2-bancadaB1/S7     1  1.649251e+15   \n",
       "2022-04-06 13:19:44  grupo2-bancadaB1/S7     1  1.649251e+15   \n",
       "2022-04-06 13:19:54  grupo2-bancadaB1/S7     1  1.649251e+15   \n",
       "2022-04-06 13:20:38  grupo2-bancadaB1/S7     1  1.649251e+15   \n",
       "\n",
       "                                   datetime  \n",
       "time                                         \n",
       "2022-04-06 12:37:20 2022-04-06 12:37:20.334  \n",
       "2022-04-06 12:38:00 2022-04-06 12:38:01.187  \n",
       "2022-04-06 12:38:06 2022-04-06 12:38:06.271  \n",
       "2022-04-06 12:55:10 2022-04-06 12:55:11.507  \n",
       "2022-04-06 12:56:34 2022-04-06 12:56:34.162  \n",
       "2022-04-06 12:56:46 2022-04-06 12:56:46.727  \n",
       "2022-04-06 12:56:58 2022-04-06 12:56:58.157  \n",
       "2022-04-06 12:59:16 2022-04-06 12:59:17.458  \n",
       "2022-04-06 12:59:36 2022-04-06 12:59:36.443  \n",
       "2022-04-06 13:00:08 2022-04-06 13:00:08.409  \n",
       "2022-04-06 13:01:42 2022-04-06 13:01:43.729  \n",
       "2022-04-06 13:02:20 2022-04-06 13:02:21.211  \n",
       "2022-04-06 13:04:14 2022-04-06 13:04:14.887  \n",
       "2022-04-06 13:19:22 2022-04-06 13:19:22.786  \n",
       "2022-04-06 13:19:44 2022-04-06 13:19:45.452  \n",
       "2022-04-06 13:19:54 2022-04-06 13:19:54.709  \n",
       "2022-04-06 13:20:38 2022-04-06 13:20:39.740  "
      ]
     },
     "execution_count": 264,
     "metadata": {},
     "output_type": "execute_result"
    }
   ],
   "source": [
    "derrotas[derrotas['value'] == '1']"
   ]
  },
  {
   "cell_type": "markdown",
   "metadata": {},
   "source": [
    "# numero vezes que ganhou"
   ]
  },
  {
   "cell_type": "code",
   "execution_count": 268,
   "metadata": {},
   "outputs": [
    {
     "data": {
      "text/plain": [
       "2"
      ]
     },
     "execution_count": 268,
     "metadata": {},
     "output_type": "execute_result"
    }
   ],
   "source": [
    "vitorias = get_cleaned_df(df, 'grupo2-bancadaB1/S6', time_window='5s')\n",
    "num_vitorias = len(vitorias[vitorias['value'] == '1'])\n",
    "\n",
    "num_vitorias"
   ]
  },
  {
   "cell_type": "code",
   "execution_count": 374,
   "metadata": {},
   "outputs": [
    {
     "data": {
      "application/vnd.plotly.v1+json": {
       "config": {
        "plotlyServerURL": "https://plot.ly"
       },
       "data": [
        {
         "labels": [
          "Vitórias",
          "Derrotas"
         ],
         "type": "pie",
         "values": [
          2,
          17
         ]
        }
       ],
       "layout": {
        "template": {
         "data": {
          "bar": [
           {
            "error_x": {
             "color": "#2a3f5f"
            },
            "error_y": {
             "color": "#2a3f5f"
            },
            "marker": {
             "line": {
              "color": "#E5ECF6",
              "width": 0.5
             },
             "pattern": {
              "fillmode": "overlay",
              "size": 10,
              "solidity": 0.2
             }
            },
            "type": "bar"
           }
          ],
          "barpolar": [
           {
            "marker": {
             "line": {
              "color": "#E5ECF6",
              "width": 0.5
             },
             "pattern": {
              "fillmode": "overlay",
              "size": 10,
              "solidity": 0.2
             }
            },
            "type": "barpolar"
           }
          ],
          "carpet": [
           {
            "aaxis": {
             "endlinecolor": "#2a3f5f",
             "gridcolor": "white",
             "linecolor": "white",
             "minorgridcolor": "white",
             "startlinecolor": "#2a3f5f"
            },
            "baxis": {
             "endlinecolor": "#2a3f5f",
             "gridcolor": "white",
             "linecolor": "white",
             "minorgridcolor": "white",
             "startlinecolor": "#2a3f5f"
            },
            "type": "carpet"
           }
          ],
          "choropleth": [
           {
            "colorbar": {
             "outlinewidth": 0,
             "ticks": ""
            },
            "type": "choropleth"
           }
          ],
          "contour": [
           {
            "colorbar": {
             "outlinewidth": 0,
             "ticks": ""
            },
            "colorscale": [
             [
              0,
              "#0d0887"
             ],
             [
              0.1111111111111111,
              "#46039f"
             ],
             [
              0.2222222222222222,
              "#7201a8"
             ],
             [
              0.3333333333333333,
              "#9c179e"
             ],
             [
              0.4444444444444444,
              "#bd3786"
             ],
             [
              0.5555555555555556,
              "#d8576b"
             ],
             [
              0.6666666666666666,
              "#ed7953"
             ],
             [
              0.7777777777777778,
              "#fb9f3a"
             ],
             [
              0.8888888888888888,
              "#fdca26"
             ],
             [
              1,
              "#f0f921"
             ]
            ],
            "type": "contour"
           }
          ],
          "contourcarpet": [
           {
            "colorbar": {
             "outlinewidth": 0,
             "ticks": ""
            },
            "type": "contourcarpet"
           }
          ],
          "heatmap": [
           {
            "colorbar": {
             "outlinewidth": 0,
             "ticks": ""
            },
            "colorscale": [
             [
              0,
              "#0d0887"
             ],
             [
              0.1111111111111111,
              "#46039f"
             ],
             [
              0.2222222222222222,
              "#7201a8"
             ],
             [
              0.3333333333333333,
              "#9c179e"
             ],
             [
              0.4444444444444444,
              "#bd3786"
             ],
             [
              0.5555555555555556,
              "#d8576b"
             ],
             [
              0.6666666666666666,
              "#ed7953"
             ],
             [
              0.7777777777777778,
              "#fb9f3a"
             ],
             [
              0.8888888888888888,
              "#fdca26"
             ],
             [
              1,
              "#f0f921"
             ]
            ],
            "type": "heatmap"
           }
          ],
          "heatmapgl": [
           {
            "colorbar": {
             "outlinewidth": 0,
             "ticks": ""
            },
            "colorscale": [
             [
              0,
              "#0d0887"
             ],
             [
              0.1111111111111111,
              "#46039f"
             ],
             [
              0.2222222222222222,
              "#7201a8"
             ],
             [
              0.3333333333333333,
              "#9c179e"
             ],
             [
              0.4444444444444444,
              "#bd3786"
             ],
             [
              0.5555555555555556,
              "#d8576b"
             ],
             [
              0.6666666666666666,
              "#ed7953"
             ],
             [
              0.7777777777777778,
              "#fb9f3a"
             ],
             [
              0.8888888888888888,
              "#fdca26"
             ],
             [
              1,
              "#f0f921"
             ]
            ],
            "type": "heatmapgl"
           }
          ],
          "histogram": [
           {
            "marker": {
             "pattern": {
              "fillmode": "overlay",
              "size": 10,
              "solidity": 0.2
             }
            },
            "type": "histogram"
           }
          ],
          "histogram2d": [
           {
            "colorbar": {
             "outlinewidth": 0,
             "ticks": ""
            },
            "colorscale": [
             [
              0,
              "#0d0887"
             ],
             [
              0.1111111111111111,
              "#46039f"
             ],
             [
              0.2222222222222222,
              "#7201a8"
             ],
             [
              0.3333333333333333,
              "#9c179e"
             ],
             [
              0.4444444444444444,
              "#bd3786"
             ],
             [
              0.5555555555555556,
              "#d8576b"
             ],
             [
              0.6666666666666666,
              "#ed7953"
             ],
             [
              0.7777777777777778,
              "#fb9f3a"
             ],
             [
              0.8888888888888888,
              "#fdca26"
             ],
             [
              1,
              "#f0f921"
             ]
            ],
            "type": "histogram2d"
           }
          ],
          "histogram2dcontour": [
           {
            "colorbar": {
             "outlinewidth": 0,
             "ticks": ""
            },
            "colorscale": [
             [
              0,
              "#0d0887"
             ],
             [
              0.1111111111111111,
              "#46039f"
             ],
             [
              0.2222222222222222,
              "#7201a8"
             ],
             [
              0.3333333333333333,
              "#9c179e"
             ],
             [
              0.4444444444444444,
              "#bd3786"
             ],
             [
              0.5555555555555556,
              "#d8576b"
             ],
             [
              0.6666666666666666,
              "#ed7953"
             ],
             [
              0.7777777777777778,
              "#fb9f3a"
             ],
             [
              0.8888888888888888,
              "#fdca26"
             ],
             [
              1,
              "#f0f921"
             ]
            ],
            "type": "histogram2dcontour"
           }
          ],
          "mesh3d": [
           {
            "colorbar": {
             "outlinewidth": 0,
             "ticks": ""
            },
            "type": "mesh3d"
           }
          ],
          "parcoords": [
           {
            "line": {
             "colorbar": {
              "outlinewidth": 0,
              "ticks": ""
             }
            },
            "type": "parcoords"
           }
          ],
          "pie": [
           {
            "automargin": true,
            "type": "pie"
           }
          ],
          "scatter": [
           {
            "marker": {
             "colorbar": {
              "outlinewidth": 0,
              "ticks": ""
             }
            },
            "type": "scatter"
           }
          ],
          "scatter3d": [
           {
            "line": {
             "colorbar": {
              "outlinewidth": 0,
              "ticks": ""
             }
            },
            "marker": {
             "colorbar": {
              "outlinewidth": 0,
              "ticks": ""
             }
            },
            "type": "scatter3d"
           }
          ],
          "scattercarpet": [
           {
            "marker": {
             "colorbar": {
              "outlinewidth": 0,
              "ticks": ""
             }
            },
            "type": "scattercarpet"
           }
          ],
          "scattergeo": [
           {
            "marker": {
             "colorbar": {
              "outlinewidth": 0,
              "ticks": ""
             }
            },
            "type": "scattergeo"
           }
          ],
          "scattergl": [
           {
            "marker": {
             "colorbar": {
              "outlinewidth": 0,
              "ticks": ""
             }
            },
            "type": "scattergl"
           }
          ],
          "scattermapbox": [
           {
            "marker": {
             "colorbar": {
              "outlinewidth": 0,
              "ticks": ""
             }
            },
            "type": "scattermapbox"
           }
          ],
          "scatterpolar": [
           {
            "marker": {
             "colorbar": {
              "outlinewidth": 0,
              "ticks": ""
             }
            },
            "type": "scatterpolar"
           }
          ],
          "scatterpolargl": [
           {
            "marker": {
             "colorbar": {
              "outlinewidth": 0,
              "ticks": ""
             }
            },
            "type": "scatterpolargl"
           }
          ],
          "scatterternary": [
           {
            "marker": {
             "colorbar": {
              "outlinewidth": 0,
              "ticks": ""
             }
            },
            "type": "scatterternary"
           }
          ],
          "surface": [
           {
            "colorbar": {
             "outlinewidth": 0,
             "ticks": ""
            },
            "colorscale": [
             [
              0,
              "#0d0887"
             ],
             [
              0.1111111111111111,
              "#46039f"
             ],
             [
              0.2222222222222222,
              "#7201a8"
             ],
             [
              0.3333333333333333,
              "#9c179e"
             ],
             [
              0.4444444444444444,
              "#bd3786"
             ],
             [
              0.5555555555555556,
              "#d8576b"
             ],
             [
              0.6666666666666666,
              "#ed7953"
             ],
             [
              0.7777777777777778,
              "#fb9f3a"
             ],
             [
              0.8888888888888888,
              "#fdca26"
             ],
             [
              1,
              "#f0f921"
             ]
            ],
            "type": "surface"
           }
          ],
          "table": [
           {
            "cells": {
             "fill": {
              "color": "#EBF0F8"
             },
             "line": {
              "color": "white"
             }
            },
            "header": {
             "fill": {
              "color": "#C8D4E3"
             },
             "line": {
              "color": "white"
             }
            },
            "type": "table"
           }
          ]
         },
         "layout": {
          "annotationdefaults": {
           "arrowcolor": "#2a3f5f",
           "arrowhead": 0,
           "arrowwidth": 1
          },
          "autotypenumbers": "strict",
          "coloraxis": {
           "colorbar": {
            "outlinewidth": 0,
            "ticks": ""
           }
          },
          "colorscale": {
           "diverging": [
            [
             0,
             "#8e0152"
            ],
            [
             0.1,
             "#c51b7d"
            ],
            [
             0.2,
             "#de77ae"
            ],
            [
             0.3,
             "#f1b6da"
            ],
            [
             0.4,
             "#fde0ef"
            ],
            [
             0.5,
             "#f7f7f7"
            ],
            [
             0.6,
             "#e6f5d0"
            ],
            [
             0.7,
             "#b8e186"
            ],
            [
             0.8,
             "#7fbc41"
            ],
            [
             0.9,
             "#4d9221"
            ],
            [
             1,
             "#276419"
            ]
           ],
           "sequential": [
            [
             0,
             "#0d0887"
            ],
            [
             0.1111111111111111,
             "#46039f"
            ],
            [
             0.2222222222222222,
             "#7201a8"
            ],
            [
             0.3333333333333333,
             "#9c179e"
            ],
            [
             0.4444444444444444,
             "#bd3786"
            ],
            [
             0.5555555555555556,
             "#d8576b"
            ],
            [
             0.6666666666666666,
             "#ed7953"
            ],
            [
             0.7777777777777778,
             "#fb9f3a"
            ],
            [
             0.8888888888888888,
             "#fdca26"
            ],
            [
             1,
             "#f0f921"
            ]
           ],
           "sequentialminus": [
            [
             0,
             "#0d0887"
            ],
            [
             0.1111111111111111,
             "#46039f"
            ],
            [
             0.2222222222222222,
             "#7201a8"
            ],
            [
             0.3333333333333333,
             "#9c179e"
            ],
            [
             0.4444444444444444,
             "#bd3786"
            ],
            [
             0.5555555555555556,
             "#d8576b"
            ],
            [
             0.6666666666666666,
             "#ed7953"
            ],
            [
             0.7777777777777778,
             "#fb9f3a"
            ],
            [
             0.8888888888888888,
             "#fdca26"
            ],
            [
             1,
             "#f0f921"
            ]
           ]
          },
          "colorway": [
           "#636efa",
           "#EF553B",
           "#00cc96",
           "#ab63fa",
           "#FFA15A",
           "#19d3f3",
           "#FF6692",
           "#B6E880",
           "#FF97FF",
           "#FECB52"
          ],
          "font": {
           "color": "#2a3f5f"
          },
          "geo": {
           "bgcolor": "white",
           "lakecolor": "white",
           "landcolor": "#E5ECF6",
           "showlakes": true,
           "showland": true,
           "subunitcolor": "white"
          },
          "hoverlabel": {
           "align": "left"
          },
          "hovermode": "closest",
          "mapbox": {
           "style": "light"
          },
          "paper_bgcolor": "white",
          "plot_bgcolor": "#E5ECF6",
          "polar": {
           "angularaxis": {
            "gridcolor": "white",
            "linecolor": "white",
            "ticks": ""
           },
           "bgcolor": "#E5ECF6",
           "radialaxis": {
            "gridcolor": "white",
            "linecolor": "white",
            "ticks": ""
           }
          },
          "scene": {
           "xaxis": {
            "backgroundcolor": "#E5ECF6",
            "gridcolor": "white",
            "gridwidth": 2,
            "linecolor": "white",
            "showbackground": true,
            "ticks": "",
            "zerolinecolor": "white"
           },
           "yaxis": {
            "backgroundcolor": "#E5ECF6",
            "gridcolor": "white",
            "gridwidth": 2,
            "linecolor": "white",
            "showbackground": true,
            "ticks": "",
            "zerolinecolor": "white"
           },
           "zaxis": {
            "backgroundcolor": "#E5ECF6",
            "gridcolor": "white",
            "gridwidth": 2,
            "linecolor": "white",
            "showbackground": true,
            "ticks": "",
            "zerolinecolor": "white"
           }
          },
          "shapedefaults": {
           "line": {
            "color": "#2a3f5f"
           }
          },
          "ternary": {
           "aaxis": {
            "gridcolor": "white",
            "linecolor": "white",
            "ticks": ""
           },
           "baxis": {
            "gridcolor": "white",
            "linecolor": "white",
            "ticks": ""
           },
           "bgcolor": "#E5ECF6",
           "caxis": {
            "gridcolor": "white",
            "linecolor": "white",
            "ticks": ""
           }
          },
          "title": {
           "x": 0.05
          },
          "xaxis": {
           "automargin": true,
           "gridcolor": "white",
           "linecolor": "white",
           "ticks": "",
           "title": {
            "standoff": 15
           },
           "zerolinecolor": "white",
           "zerolinewidth": 2
          },
          "yaxis": {
           "automargin": true,
           "gridcolor": "white",
           "linecolor": "white",
           "ticks": "",
           "title": {
            "standoff": 15
           },
           "zerolinecolor": "white",
           "zerolinewidth": 2
          }
         }
        },
        "title": {
         "text": "Vitórias x Derrotas"
        }
       }
      }
     },
     "metadata": {},
     "output_type": "display_data"
    }
   ],
   "source": [
    "num_derrotas, num_vitorias\n",
    "# create donut chart\n",
    "labels = ['Vitórias', 'Derrotas']\n",
    "values = [num_vitorias, num_derrotas]\n",
    "fig = go.Figure(data=[go.Pie(labels=labels, values=values)])\n",
    "fig.update_layout(title_text=\"Vitórias x Derrotas\")\n",
    "fig"
   ]
  },
  {
   "cell_type": "markdown",
   "metadata": {},
   "source": [
    "# derrotas e vitórias"
   ]
  },
  {
   "cell_type": "code",
   "execution_count": 306,
   "metadata": {},
   "outputs": [],
   "source": [
    "vitorias = get_cleaned_df(df, 'grupo2-bancadaB1/S6', time_window='5s')\n",
    "vitorias = vitorias[vitorias['value'] == '1']\n",
    "derrotas = get_cleaned_df(df, 'grupo2-bancadaB1/S7', time_window='2s')\n",
    "derrotas = derrotas[derrotas['value'] == '1']\n",
    "jogos = pd.concat([vitorias, derrotas], axis=0).sort_index(ascending=False)"
   ]
  },
  {
   "cell_type": "code",
   "execution_count": 307,
   "metadata": {},
   "outputs": [],
   "source": [
    "jogos['label'] = jogos['topic'].apply(lambda x: \"vitória\" if x == 'grupo2-bancadaB1/S6'else \"derrota\")"
   ]
  },
  {
   "cell_type": "code",
   "execution_count": 308,
   "metadata": {},
   "outputs": [],
   "source": [
    "jogos = jogos['label'].reset_index()"
   ]
  },
  {
   "cell_type": "code",
   "execution_count": 315,
   "metadata": {},
   "outputs": [
    {
     "data": {
      "application/vnd.plotly.v1+json": {
       "config": {
        "plotlyServerURL": "https://plot.ly"
       },
       "data": [
        {
         "cells": {
          "align": "center",
          "fill": {
           "color": "lightgrey"
          },
          "font": {
           "color": "black"
          },
          "line": {
           "color": "darkslategray"
          },
          "values": [
           [
            "2022-04-06T13:20:38",
            "2022-04-06T13:19:54",
            "2022-04-06T13:19:44",
            "2022-04-06T13:19:22",
            "2022-04-06T13:19:20",
            "2022-04-06T13:09:20",
            "2022-04-06T13:04:14",
            "2022-04-06T13:02:20",
            "2022-04-06T13:01:42",
            "2022-04-06T13:00:08",
            "2022-04-06T12:59:36",
            "2022-04-06T12:59:16",
            "2022-04-06T12:56:58",
            "2022-04-06T12:56:46",
            "2022-04-06T12:56:34",
            "2022-04-06T12:55:10",
            "2022-04-06T12:38:06",
            "2022-04-06T12:38:00",
            "2022-04-06T12:37:20"
           ],
           [
            "derrota",
            "derrota",
            "derrota",
            "derrota",
            "vitória",
            "vitória",
            "derrota",
            "derrota",
            "derrota",
            "derrota",
            "derrota",
            "derrota",
            "derrota",
            "derrota",
            "derrota",
            "derrota",
            "derrota",
            "derrota",
            "derrota"
           ]
          ]
         },
         "header": {
          "align": "center",
          "fill": {
           "color": "grey"
          },
          "font": {
           "color": "white"
          },
          "line": {
           "color": "darkslategray"
          },
          "values": [
           "time",
           "label"
          ]
         },
         "type": "table"
        }
       ],
       "layout": {
        "template": {
         "data": {
          "bar": [
           {
            "error_x": {
             "color": "#2a3f5f"
            },
            "error_y": {
             "color": "#2a3f5f"
            },
            "marker": {
             "line": {
              "color": "#E5ECF6",
              "width": 0.5
             },
             "pattern": {
              "fillmode": "overlay",
              "size": 10,
              "solidity": 0.2
             }
            },
            "type": "bar"
           }
          ],
          "barpolar": [
           {
            "marker": {
             "line": {
              "color": "#E5ECF6",
              "width": 0.5
             },
             "pattern": {
              "fillmode": "overlay",
              "size": 10,
              "solidity": 0.2
             }
            },
            "type": "barpolar"
           }
          ],
          "carpet": [
           {
            "aaxis": {
             "endlinecolor": "#2a3f5f",
             "gridcolor": "white",
             "linecolor": "white",
             "minorgridcolor": "white",
             "startlinecolor": "#2a3f5f"
            },
            "baxis": {
             "endlinecolor": "#2a3f5f",
             "gridcolor": "white",
             "linecolor": "white",
             "minorgridcolor": "white",
             "startlinecolor": "#2a3f5f"
            },
            "type": "carpet"
           }
          ],
          "choropleth": [
           {
            "colorbar": {
             "outlinewidth": 0,
             "ticks": ""
            },
            "type": "choropleth"
           }
          ],
          "contour": [
           {
            "colorbar": {
             "outlinewidth": 0,
             "ticks": ""
            },
            "colorscale": [
             [
              0,
              "#0d0887"
             ],
             [
              0.1111111111111111,
              "#46039f"
             ],
             [
              0.2222222222222222,
              "#7201a8"
             ],
             [
              0.3333333333333333,
              "#9c179e"
             ],
             [
              0.4444444444444444,
              "#bd3786"
             ],
             [
              0.5555555555555556,
              "#d8576b"
             ],
             [
              0.6666666666666666,
              "#ed7953"
             ],
             [
              0.7777777777777778,
              "#fb9f3a"
             ],
             [
              0.8888888888888888,
              "#fdca26"
             ],
             [
              1,
              "#f0f921"
             ]
            ],
            "type": "contour"
           }
          ],
          "contourcarpet": [
           {
            "colorbar": {
             "outlinewidth": 0,
             "ticks": ""
            },
            "type": "contourcarpet"
           }
          ],
          "heatmap": [
           {
            "colorbar": {
             "outlinewidth": 0,
             "ticks": ""
            },
            "colorscale": [
             [
              0,
              "#0d0887"
             ],
             [
              0.1111111111111111,
              "#46039f"
             ],
             [
              0.2222222222222222,
              "#7201a8"
             ],
             [
              0.3333333333333333,
              "#9c179e"
             ],
             [
              0.4444444444444444,
              "#bd3786"
             ],
             [
              0.5555555555555556,
              "#d8576b"
             ],
             [
              0.6666666666666666,
              "#ed7953"
             ],
             [
              0.7777777777777778,
              "#fb9f3a"
             ],
             [
              0.8888888888888888,
              "#fdca26"
             ],
             [
              1,
              "#f0f921"
             ]
            ],
            "type": "heatmap"
           }
          ],
          "heatmapgl": [
           {
            "colorbar": {
             "outlinewidth": 0,
             "ticks": ""
            },
            "colorscale": [
             [
              0,
              "#0d0887"
             ],
             [
              0.1111111111111111,
              "#46039f"
             ],
             [
              0.2222222222222222,
              "#7201a8"
             ],
             [
              0.3333333333333333,
              "#9c179e"
             ],
             [
              0.4444444444444444,
              "#bd3786"
             ],
             [
              0.5555555555555556,
              "#d8576b"
             ],
             [
              0.6666666666666666,
              "#ed7953"
             ],
             [
              0.7777777777777778,
              "#fb9f3a"
             ],
             [
              0.8888888888888888,
              "#fdca26"
             ],
             [
              1,
              "#f0f921"
             ]
            ],
            "type": "heatmapgl"
           }
          ],
          "histogram": [
           {
            "marker": {
             "pattern": {
              "fillmode": "overlay",
              "size": 10,
              "solidity": 0.2
             }
            },
            "type": "histogram"
           }
          ],
          "histogram2d": [
           {
            "colorbar": {
             "outlinewidth": 0,
             "ticks": ""
            },
            "colorscale": [
             [
              0,
              "#0d0887"
             ],
             [
              0.1111111111111111,
              "#46039f"
             ],
             [
              0.2222222222222222,
              "#7201a8"
             ],
             [
              0.3333333333333333,
              "#9c179e"
             ],
             [
              0.4444444444444444,
              "#bd3786"
             ],
             [
              0.5555555555555556,
              "#d8576b"
             ],
             [
              0.6666666666666666,
              "#ed7953"
             ],
             [
              0.7777777777777778,
              "#fb9f3a"
             ],
             [
              0.8888888888888888,
              "#fdca26"
             ],
             [
              1,
              "#f0f921"
             ]
            ],
            "type": "histogram2d"
           }
          ],
          "histogram2dcontour": [
           {
            "colorbar": {
             "outlinewidth": 0,
             "ticks": ""
            },
            "colorscale": [
             [
              0,
              "#0d0887"
             ],
             [
              0.1111111111111111,
              "#46039f"
             ],
             [
              0.2222222222222222,
              "#7201a8"
             ],
             [
              0.3333333333333333,
              "#9c179e"
             ],
             [
              0.4444444444444444,
              "#bd3786"
             ],
             [
              0.5555555555555556,
              "#d8576b"
             ],
             [
              0.6666666666666666,
              "#ed7953"
             ],
             [
              0.7777777777777778,
              "#fb9f3a"
             ],
             [
              0.8888888888888888,
              "#fdca26"
             ],
             [
              1,
              "#f0f921"
             ]
            ],
            "type": "histogram2dcontour"
           }
          ],
          "mesh3d": [
           {
            "colorbar": {
             "outlinewidth": 0,
             "ticks": ""
            },
            "type": "mesh3d"
           }
          ],
          "parcoords": [
           {
            "line": {
             "colorbar": {
              "outlinewidth": 0,
              "ticks": ""
             }
            },
            "type": "parcoords"
           }
          ],
          "pie": [
           {
            "automargin": true,
            "type": "pie"
           }
          ],
          "scatter": [
           {
            "marker": {
             "colorbar": {
              "outlinewidth": 0,
              "ticks": ""
             }
            },
            "type": "scatter"
           }
          ],
          "scatter3d": [
           {
            "line": {
             "colorbar": {
              "outlinewidth": 0,
              "ticks": ""
             }
            },
            "marker": {
             "colorbar": {
              "outlinewidth": 0,
              "ticks": ""
             }
            },
            "type": "scatter3d"
           }
          ],
          "scattercarpet": [
           {
            "marker": {
             "colorbar": {
              "outlinewidth": 0,
              "ticks": ""
             }
            },
            "type": "scattercarpet"
           }
          ],
          "scattergeo": [
           {
            "marker": {
             "colorbar": {
              "outlinewidth": 0,
              "ticks": ""
             }
            },
            "type": "scattergeo"
           }
          ],
          "scattergl": [
           {
            "marker": {
             "colorbar": {
              "outlinewidth": 0,
              "ticks": ""
             }
            },
            "type": "scattergl"
           }
          ],
          "scattermapbox": [
           {
            "marker": {
             "colorbar": {
              "outlinewidth": 0,
              "ticks": ""
             }
            },
            "type": "scattermapbox"
           }
          ],
          "scatterpolar": [
           {
            "marker": {
             "colorbar": {
              "outlinewidth": 0,
              "ticks": ""
             }
            },
            "type": "scatterpolar"
           }
          ],
          "scatterpolargl": [
           {
            "marker": {
             "colorbar": {
              "outlinewidth": 0,
              "ticks": ""
             }
            },
            "type": "scatterpolargl"
           }
          ],
          "scatterternary": [
           {
            "marker": {
             "colorbar": {
              "outlinewidth": 0,
              "ticks": ""
             }
            },
            "type": "scatterternary"
           }
          ],
          "surface": [
           {
            "colorbar": {
             "outlinewidth": 0,
             "ticks": ""
            },
            "colorscale": [
             [
              0,
              "#0d0887"
             ],
             [
              0.1111111111111111,
              "#46039f"
             ],
             [
              0.2222222222222222,
              "#7201a8"
             ],
             [
              0.3333333333333333,
              "#9c179e"
             ],
             [
              0.4444444444444444,
              "#bd3786"
             ],
             [
              0.5555555555555556,
              "#d8576b"
             ],
             [
              0.6666666666666666,
              "#ed7953"
             ],
             [
              0.7777777777777778,
              "#fb9f3a"
             ],
             [
              0.8888888888888888,
              "#fdca26"
             ],
             [
              1,
              "#f0f921"
             ]
            ],
            "type": "surface"
           }
          ],
          "table": [
           {
            "cells": {
             "fill": {
              "color": "#EBF0F8"
             },
             "line": {
              "color": "white"
             }
            },
            "header": {
             "fill": {
              "color": "#C8D4E3"
             },
             "line": {
              "color": "white"
             }
            },
            "type": "table"
           }
          ]
         },
         "layout": {
          "annotationdefaults": {
           "arrowcolor": "#2a3f5f",
           "arrowhead": 0,
           "arrowwidth": 1
          },
          "autotypenumbers": "strict",
          "coloraxis": {
           "colorbar": {
            "outlinewidth": 0,
            "ticks": ""
           }
          },
          "colorscale": {
           "diverging": [
            [
             0,
             "#8e0152"
            ],
            [
             0.1,
             "#c51b7d"
            ],
            [
             0.2,
             "#de77ae"
            ],
            [
             0.3,
             "#f1b6da"
            ],
            [
             0.4,
             "#fde0ef"
            ],
            [
             0.5,
             "#f7f7f7"
            ],
            [
             0.6,
             "#e6f5d0"
            ],
            [
             0.7,
             "#b8e186"
            ],
            [
             0.8,
             "#7fbc41"
            ],
            [
             0.9,
             "#4d9221"
            ],
            [
             1,
             "#276419"
            ]
           ],
           "sequential": [
            [
             0,
             "#0d0887"
            ],
            [
             0.1111111111111111,
             "#46039f"
            ],
            [
             0.2222222222222222,
             "#7201a8"
            ],
            [
             0.3333333333333333,
             "#9c179e"
            ],
            [
             0.4444444444444444,
             "#bd3786"
            ],
            [
             0.5555555555555556,
             "#d8576b"
            ],
            [
             0.6666666666666666,
             "#ed7953"
            ],
            [
             0.7777777777777778,
             "#fb9f3a"
            ],
            [
             0.8888888888888888,
             "#fdca26"
            ],
            [
             1,
             "#f0f921"
            ]
           ],
           "sequentialminus": [
            [
             0,
             "#0d0887"
            ],
            [
             0.1111111111111111,
             "#46039f"
            ],
            [
             0.2222222222222222,
             "#7201a8"
            ],
            [
             0.3333333333333333,
             "#9c179e"
            ],
            [
             0.4444444444444444,
             "#bd3786"
            ],
            [
             0.5555555555555556,
             "#d8576b"
            ],
            [
             0.6666666666666666,
             "#ed7953"
            ],
            [
             0.7777777777777778,
             "#fb9f3a"
            ],
            [
             0.8888888888888888,
             "#fdca26"
            ],
            [
             1,
             "#f0f921"
            ]
           ]
          },
          "colorway": [
           "#636efa",
           "#EF553B",
           "#00cc96",
           "#ab63fa",
           "#FFA15A",
           "#19d3f3",
           "#FF6692",
           "#B6E880",
           "#FF97FF",
           "#FECB52"
          ],
          "font": {
           "color": "#2a3f5f"
          },
          "geo": {
           "bgcolor": "white",
           "lakecolor": "white",
           "landcolor": "#E5ECF6",
           "showlakes": true,
           "showland": true,
           "subunitcolor": "white"
          },
          "hoverlabel": {
           "align": "left"
          },
          "hovermode": "closest",
          "mapbox": {
           "style": "light"
          },
          "paper_bgcolor": "white",
          "plot_bgcolor": "#E5ECF6",
          "polar": {
           "angularaxis": {
            "gridcolor": "white",
            "linecolor": "white",
            "ticks": ""
           },
           "bgcolor": "#E5ECF6",
           "radialaxis": {
            "gridcolor": "white",
            "linecolor": "white",
            "ticks": ""
           }
          },
          "scene": {
           "xaxis": {
            "backgroundcolor": "#E5ECF6",
            "gridcolor": "white",
            "gridwidth": 2,
            "linecolor": "white",
            "showbackground": true,
            "ticks": "",
            "zerolinecolor": "white"
           },
           "yaxis": {
            "backgroundcolor": "#E5ECF6",
            "gridcolor": "white",
            "gridwidth": 2,
            "linecolor": "white",
            "showbackground": true,
            "ticks": "",
            "zerolinecolor": "white"
           },
           "zaxis": {
            "backgroundcolor": "#E5ECF6",
            "gridcolor": "white",
            "gridwidth": 2,
            "linecolor": "white",
            "showbackground": true,
            "ticks": "",
            "zerolinecolor": "white"
           }
          },
          "shapedefaults": {
           "line": {
            "color": "#2a3f5f"
           }
          },
          "ternary": {
           "aaxis": {
            "gridcolor": "white",
            "linecolor": "white",
            "ticks": ""
           },
           "baxis": {
            "gridcolor": "white",
            "linecolor": "white",
            "ticks": ""
           },
           "bgcolor": "#E5ECF6",
           "caxis": {
            "gridcolor": "white",
            "linecolor": "white",
            "ticks": ""
           }
          },
          "title": {
           "x": 0.05
          },
          "xaxis": {
           "automargin": true,
           "gridcolor": "white",
           "linecolor": "white",
           "ticks": "",
           "title": {
            "standoff": 15
           },
           "zerolinecolor": "white",
           "zerolinewidth": 2
          },
          "yaxis": {
           "automargin": true,
           "gridcolor": "white",
           "linecolor": "white",
           "ticks": "",
           "title": {
            "standoff": 15
           },
           "zerolinecolor": "white",
           "zerolinewidth": 2
          }
         }
        }
       }
      }
     },
     "metadata": {},
     "output_type": "display_data"
    }
   ],
   "source": [
    "fig = go.Figure(data=[go.Table(\n",
    "    header=dict(values=list(jogos.columns),\n",
    "                fill_color='grey',\n",
    "\t\t\t\tline_color='darkslategray',\n",
    "\t\t\t\tfont={'color': 'white'},\n",
    "                align='center'),\n",
    "    cells=dict(values=[jogos.time, jogos.label],\n",
    "               fill_color='lightgrey',\n",
    "               align='center',\n",
    "\t\t\t   line_color='darkslategray',\n",
    "\t\t\t   font={'color': 'black'}\n",
    "\t\t\t   )\n",
    "\t\t\t)\n",
    "])\n",
    "\n",
    "fig"
   ]
  },
  {
   "cell_type": "code",
   "execution_count": 376,
   "metadata": {},
   "outputs": [
    {
     "data": {
      "application/vnd.plotly.v1+json": {
       "config": {
        "plotlyServerURL": "https://plot.ly"
       },
       "data": [
        {
         "hovertemplate": "label=%{y}<br>time=%{x}<extra></extra>",
         "legendgroup": "derrota",
         "marker": {
          "color": "#636efa",
          "symbol": "circle"
         },
         "mode": "markers",
         "name": "derrota",
         "orientation": "v",
         "showlegend": true,
         "type": "scatter",
         "x": [
          "2022-04-06T13:20:38",
          "2022-04-06T13:19:54",
          "2022-04-06T13:19:44",
          "2022-04-06T13:19:22",
          "2022-04-06T13:04:14",
          "2022-04-06T13:02:20",
          "2022-04-06T13:01:42",
          "2022-04-06T13:00:08",
          "2022-04-06T12:59:36",
          "2022-04-06T12:59:16",
          "2022-04-06T12:56:58",
          "2022-04-06T12:56:46",
          "2022-04-06T12:56:34",
          "2022-04-06T12:55:10",
          "2022-04-06T12:38:06",
          "2022-04-06T12:38:00",
          "2022-04-06T12:37:20"
         ],
         "xaxis": "x",
         "y": [
          "derrota",
          "derrota",
          "derrota",
          "derrota",
          "derrota",
          "derrota",
          "derrota",
          "derrota",
          "derrota",
          "derrota",
          "derrota",
          "derrota",
          "derrota",
          "derrota",
          "derrota",
          "derrota",
          "derrota"
         ],
         "yaxis": "y"
        },
        {
         "hovertemplate": "label=%{y}<br>time=%{x}<extra></extra>",
         "legendgroup": "vitória",
         "marker": {
          "color": "#EF553B",
          "symbol": "circle"
         },
         "mode": "markers",
         "name": "vitória",
         "orientation": "v",
         "showlegend": true,
         "type": "scatter",
         "x": [
          "2022-04-06T13:19:20",
          "2022-04-06T13:09:20"
         ],
         "xaxis": "x",
         "y": [
          "vitória",
          "vitória"
         ],
         "yaxis": "y"
        }
       ],
       "layout": {
        "legend": {
         "title": {
          "text": "label"
         },
         "tracegroupgap": 0
        },
        "template": {
         "data": {
          "bar": [
           {
            "error_x": {
             "color": "#2a3f5f"
            },
            "error_y": {
             "color": "#2a3f5f"
            },
            "marker": {
             "line": {
              "color": "#E5ECF6",
              "width": 0.5
             },
             "pattern": {
              "fillmode": "overlay",
              "size": 10,
              "solidity": 0.2
             }
            },
            "type": "bar"
           }
          ],
          "barpolar": [
           {
            "marker": {
             "line": {
              "color": "#E5ECF6",
              "width": 0.5
             },
             "pattern": {
              "fillmode": "overlay",
              "size": 10,
              "solidity": 0.2
             }
            },
            "type": "barpolar"
           }
          ],
          "carpet": [
           {
            "aaxis": {
             "endlinecolor": "#2a3f5f",
             "gridcolor": "white",
             "linecolor": "white",
             "minorgridcolor": "white",
             "startlinecolor": "#2a3f5f"
            },
            "baxis": {
             "endlinecolor": "#2a3f5f",
             "gridcolor": "white",
             "linecolor": "white",
             "minorgridcolor": "white",
             "startlinecolor": "#2a3f5f"
            },
            "type": "carpet"
           }
          ],
          "choropleth": [
           {
            "colorbar": {
             "outlinewidth": 0,
             "ticks": ""
            },
            "type": "choropleth"
           }
          ],
          "contour": [
           {
            "colorbar": {
             "outlinewidth": 0,
             "ticks": ""
            },
            "colorscale": [
             [
              0,
              "#0d0887"
             ],
             [
              0.1111111111111111,
              "#46039f"
             ],
             [
              0.2222222222222222,
              "#7201a8"
             ],
             [
              0.3333333333333333,
              "#9c179e"
             ],
             [
              0.4444444444444444,
              "#bd3786"
             ],
             [
              0.5555555555555556,
              "#d8576b"
             ],
             [
              0.6666666666666666,
              "#ed7953"
             ],
             [
              0.7777777777777778,
              "#fb9f3a"
             ],
             [
              0.8888888888888888,
              "#fdca26"
             ],
             [
              1,
              "#f0f921"
             ]
            ],
            "type": "contour"
           }
          ],
          "contourcarpet": [
           {
            "colorbar": {
             "outlinewidth": 0,
             "ticks": ""
            },
            "type": "contourcarpet"
           }
          ],
          "heatmap": [
           {
            "colorbar": {
             "outlinewidth": 0,
             "ticks": ""
            },
            "colorscale": [
             [
              0,
              "#0d0887"
             ],
             [
              0.1111111111111111,
              "#46039f"
             ],
             [
              0.2222222222222222,
              "#7201a8"
             ],
             [
              0.3333333333333333,
              "#9c179e"
             ],
             [
              0.4444444444444444,
              "#bd3786"
             ],
             [
              0.5555555555555556,
              "#d8576b"
             ],
             [
              0.6666666666666666,
              "#ed7953"
             ],
             [
              0.7777777777777778,
              "#fb9f3a"
             ],
             [
              0.8888888888888888,
              "#fdca26"
             ],
             [
              1,
              "#f0f921"
             ]
            ],
            "type": "heatmap"
           }
          ],
          "heatmapgl": [
           {
            "colorbar": {
             "outlinewidth": 0,
             "ticks": ""
            },
            "colorscale": [
             [
              0,
              "#0d0887"
             ],
             [
              0.1111111111111111,
              "#46039f"
             ],
             [
              0.2222222222222222,
              "#7201a8"
             ],
             [
              0.3333333333333333,
              "#9c179e"
             ],
             [
              0.4444444444444444,
              "#bd3786"
             ],
             [
              0.5555555555555556,
              "#d8576b"
             ],
             [
              0.6666666666666666,
              "#ed7953"
             ],
             [
              0.7777777777777778,
              "#fb9f3a"
             ],
             [
              0.8888888888888888,
              "#fdca26"
             ],
             [
              1,
              "#f0f921"
             ]
            ],
            "type": "heatmapgl"
           }
          ],
          "histogram": [
           {
            "marker": {
             "pattern": {
              "fillmode": "overlay",
              "size": 10,
              "solidity": 0.2
             }
            },
            "type": "histogram"
           }
          ],
          "histogram2d": [
           {
            "colorbar": {
             "outlinewidth": 0,
             "ticks": ""
            },
            "colorscale": [
             [
              0,
              "#0d0887"
             ],
             [
              0.1111111111111111,
              "#46039f"
             ],
             [
              0.2222222222222222,
              "#7201a8"
             ],
             [
              0.3333333333333333,
              "#9c179e"
             ],
             [
              0.4444444444444444,
              "#bd3786"
             ],
             [
              0.5555555555555556,
              "#d8576b"
             ],
             [
              0.6666666666666666,
              "#ed7953"
             ],
             [
              0.7777777777777778,
              "#fb9f3a"
             ],
             [
              0.8888888888888888,
              "#fdca26"
             ],
             [
              1,
              "#f0f921"
             ]
            ],
            "type": "histogram2d"
           }
          ],
          "histogram2dcontour": [
           {
            "colorbar": {
             "outlinewidth": 0,
             "ticks": ""
            },
            "colorscale": [
             [
              0,
              "#0d0887"
             ],
             [
              0.1111111111111111,
              "#46039f"
             ],
             [
              0.2222222222222222,
              "#7201a8"
             ],
             [
              0.3333333333333333,
              "#9c179e"
             ],
             [
              0.4444444444444444,
              "#bd3786"
             ],
             [
              0.5555555555555556,
              "#d8576b"
             ],
             [
              0.6666666666666666,
              "#ed7953"
             ],
             [
              0.7777777777777778,
              "#fb9f3a"
             ],
             [
              0.8888888888888888,
              "#fdca26"
             ],
             [
              1,
              "#f0f921"
             ]
            ],
            "type": "histogram2dcontour"
           }
          ],
          "mesh3d": [
           {
            "colorbar": {
             "outlinewidth": 0,
             "ticks": ""
            },
            "type": "mesh3d"
           }
          ],
          "parcoords": [
           {
            "line": {
             "colorbar": {
              "outlinewidth": 0,
              "ticks": ""
             }
            },
            "type": "parcoords"
           }
          ],
          "pie": [
           {
            "automargin": true,
            "type": "pie"
           }
          ],
          "scatter": [
           {
            "marker": {
             "colorbar": {
              "outlinewidth": 0,
              "ticks": ""
             }
            },
            "type": "scatter"
           }
          ],
          "scatter3d": [
           {
            "line": {
             "colorbar": {
              "outlinewidth": 0,
              "ticks": ""
             }
            },
            "marker": {
             "colorbar": {
              "outlinewidth": 0,
              "ticks": ""
             }
            },
            "type": "scatter3d"
           }
          ],
          "scattercarpet": [
           {
            "marker": {
             "colorbar": {
              "outlinewidth": 0,
              "ticks": ""
             }
            },
            "type": "scattercarpet"
           }
          ],
          "scattergeo": [
           {
            "marker": {
             "colorbar": {
              "outlinewidth": 0,
              "ticks": ""
             }
            },
            "type": "scattergeo"
           }
          ],
          "scattergl": [
           {
            "marker": {
             "colorbar": {
              "outlinewidth": 0,
              "ticks": ""
             }
            },
            "type": "scattergl"
           }
          ],
          "scattermapbox": [
           {
            "marker": {
             "colorbar": {
              "outlinewidth": 0,
              "ticks": ""
             }
            },
            "type": "scattermapbox"
           }
          ],
          "scatterpolar": [
           {
            "marker": {
             "colorbar": {
              "outlinewidth": 0,
              "ticks": ""
             }
            },
            "type": "scatterpolar"
           }
          ],
          "scatterpolargl": [
           {
            "marker": {
             "colorbar": {
              "outlinewidth": 0,
              "ticks": ""
             }
            },
            "type": "scatterpolargl"
           }
          ],
          "scatterternary": [
           {
            "marker": {
             "colorbar": {
              "outlinewidth": 0,
              "ticks": ""
             }
            },
            "type": "scatterternary"
           }
          ],
          "surface": [
           {
            "colorbar": {
             "outlinewidth": 0,
             "ticks": ""
            },
            "colorscale": [
             [
              0,
              "#0d0887"
             ],
             [
              0.1111111111111111,
              "#46039f"
             ],
             [
              0.2222222222222222,
              "#7201a8"
             ],
             [
              0.3333333333333333,
              "#9c179e"
             ],
             [
              0.4444444444444444,
              "#bd3786"
             ],
             [
              0.5555555555555556,
              "#d8576b"
             ],
             [
              0.6666666666666666,
              "#ed7953"
             ],
             [
              0.7777777777777778,
              "#fb9f3a"
             ],
             [
              0.8888888888888888,
              "#fdca26"
             ],
             [
              1,
              "#f0f921"
             ]
            ],
            "type": "surface"
           }
          ],
          "table": [
           {
            "cells": {
             "fill": {
              "color": "#EBF0F8"
             },
             "line": {
              "color": "white"
             }
            },
            "header": {
             "fill": {
              "color": "#C8D4E3"
             },
             "line": {
              "color": "white"
             }
            },
            "type": "table"
           }
          ]
         },
         "layout": {
          "annotationdefaults": {
           "arrowcolor": "#2a3f5f",
           "arrowhead": 0,
           "arrowwidth": 1
          },
          "autotypenumbers": "strict",
          "coloraxis": {
           "colorbar": {
            "outlinewidth": 0,
            "ticks": ""
           }
          },
          "colorscale": {
           "diverging": [
            [
             0,
             "#8e0152"
            ],
            [
             0.1,
             "#c51b7d"
            ],
            [
             0.2,
             "#de77ae"
            ],
            [
             0.3,
             "#f1b6da"
            ],
            [
             0.4,
             "#fde0ef"
            ],
            [
             0.5,
             "#f7f7f7"
            ],
            [
             0.6,
             "#e6f5d0"
            ],
            [
             0.7,
             "#b8e186"
            ],
            [
             0.8,
             "#7fbc41"
            ],
            [
             0.9,
             "#4d9221"
            ],
            [
             1,
             "#276419"
            ]
           ],
           "sequential": [
            [
             0,
             "#0d0887"
            ],
            [
             0.1111111111111111,
             "#46039f"
            ],
            [
             0.2222222222222222,
             "#7201a8"
            ],
            [
             0.3333333333333333,
             "#9c179e"
            ],
            [
             0.4444444444444444,
             "#bd3786"
            ],
            [
             0.5555555555555556,
             "#d8576b"
            ],
            [
             0.6666666666666666,
             "#ed7953"
            ],
            [
             0.7777777777777778,
             "#fb9f3a"
            ],
            [
             0.8888888888888888,
             "#fdca26"
            ],
            [
             1,
             "#f0f921"
            ]
           ],
           "sequentialminus": [
            [
             0,
             "#0d0887"
            ],
            [
             0.1111111111111111,
             "#46039f"
            ],
            [
             0.2222222222222222,
             "#7201a8"
            ],
            [
             0.3333333333333333,
             "#9c179e"
            ],
            [
             0.4444444444444444,
             "#bd3786"
            ],
            [
             0.5555555555555556,
             "#d8576b"
            ],
            [
             0.6666666666666666,
             "#ed7953"
            ],
            [
             0.7777777777777778,
             "#fb9f3a"
            ],
            [
             0.8888888888888888,
             "#fdca26"
            ],
            [
             1,
             "#f0f921"
            ]
           ]
          },
          "colorway": [
           "#636efa",
           "#EF553B",
           "#00cc96",
           "#ab63fa",
           "#FFA15A",
           "#19d3f3",
           "#FF6692",
           "#B6E880",
           "#FF97FF",
           "#FECB52"
          ],
          "font": {
           "color": "#2a3f5f"
          },
          "geo": {
           "bgcolor": "white",
           "lakecolor": "white",
           "landcolor": "#E5ECF6",
           "showlakes": true,
           "showland": true,
           "subunitcolor": "white"
          },
          "hoverlabel": {
           "align": "left"
          },
          "hovermode": "closest",
          "mapbox": {
           "style": "light"
          },
          "paper_bgcolor": "white",
          "plot_bgcolor": "#E5ECF6",
          "polar": {
           "angularaxis": {
            "gridcolor": "white",
            "linecolor": "white",
            "ticks": ""
           },
           "bgcolor": "#E5ECF6",
           "radialaxis": {
            "gridcolor": "white",
            "linecolor": "white",
            "ticks": ""
           }
          },
          "scene": {
           "xaxis": {
            "backgroundcolor": "#E5ECF6",
            "gridcolor": "white",
            "gridwidth": 2,
            "linecolor": "white",
            "showbackground": true,
            "ticks": "",
            "zerolinecolor": "white"
           },
           "yaxis": {
            "backgroundcolor": "#E5ECF6",
            "gridcolor": "white",
            "gridwidth": 2,
            "linecolor": "white",
            "showbackground": true,
            "ticks": "",
            "zerolinecolor": "white"
           },
           "zaxis": {
            "backgroundcolor": "#E5ECF6",
            "gridcolor": "white",
            "gridwidth": 2,
            "linecolor": "white",
            "showbackground": true,
            "ticks": "",
            "zerolinecolor": "white"
           }
          },
          "shapedefaults": {
           "line": {
            "color": "#2a3f5f"
           }
          },
          "ternary": {
           "aaxis": {
            "gridcolor": "white",
            "linecolor": "white",
            "ticks": ""
           },
           "baxis": {
            "gridcolor": "white",
            "linecolor": "white",
            "ticks": ""
           },
           "bgcolor": "#E5ECF6",
           "caxis": {
            "gridcolor": "white",
            "linecolor": "white",
            "ticks": ""
           }
          },
          "title": {
           "x": 0.05
          },
          "xaxis": {
           "automargin": true,
           "gridcolor": "white",
           "linecolor": "white",
           "ticks": "",
           "title": {
            "standoff": 15
           },
           "zerolinecolor": "white",
           "zerolinewidth": 2
          },
          "yaxis": {
           "automargin": true,
           "gridcolor": "white",
           "linecolor": "white",
           "ticks": "",
           "title": {
            "standoff": 15
           },
           "zerolinecolor": "white",
           "zerolinewidth": 2
          }
         }
        },
        "title": {
         "text": "Vitórias x Derrotas"
        },
        "xaxis": {
         "anchor": "y",
         "domain": [
          0,
          1
         ],
         "title": {
          "text": "time"
         }
        },
        "yaxis": {
         "anchor": "x",
         "categoryarray": [
          "vitória",
          "derrota"
         ],
         "categoryorder": "array",
         "domain": [
          0,
          1
         ],
         "title": {
          "text": "label"
         }
        }
       }
      }
     },
     "metadata": {},
     "output_type": "display_data"
    }
   ],
   "source": [
    "fig = px.scatter(jogos, x='time', y='label', color='label', title='Vitórias x Derrotas')"
   ]
  },
  {
   "cell_type": "markdown",
   "metadata": {},
   "source": [
    "# numero de rodadas"
   ]
  },
  {
   "cell_type": "code",
   "execution_count": 342,
   "metadata": {},
   "outputs": [
    {
     "data": {
      "text/plain": [
       "1871"
      ]
     },
     "execution_count": 342,
     "metadata": {},
     "output_type": "execute_result"
    }
   ],
   "source": [
    "rodadas = get_cleaned_df(df, 'grupo2-bancadaB1/S5')\n",
    "num_rodadas = len(rodadas[rodadas['value'] == '1'])\n",
    "\n",
    "num_rodadas\n",
    "\n",
    "hellos = df2[df2['topic'] == 'grupo2-bancadaB1/hello']\n",
    "num_hellos = len(hellos)\n",
    "\n",
    "num_hellos"
   ]
  },
  {
   "cell_type": "code",
   "execution_count": 378,
   "metadata": {},
   "outputs": [
    {
     "data": {
      "text/html": [
       "<div>\n",
       "<style scoped>\n",
       "    .dataframe tbody tr th:only-of-type {\n",
       "        vertical-align: middle;\n",
       "    }\n",
       "\n",
       "    .dataframe tbody tr th {\n",
       "        vertical-align: top;\n",
       "    }\n",
       "\n",
       "    .dataframe thead th {\n",
       "        text-align: right;\n",
       "    }\n",
       "</style>\n",
       "<table border=\"1\" class=\"dataframe\">\n",
       "  <thead>\n",
       "    <tr style=\"text-align: right;\">\n",
       "      <th></th>\n",
       "      <th>topic</th>\n",
       "      <th>value</th>\n",
       "      <th>time</th>\n",
       "      <th>datetime</th>\n",
       "    </tr>\n",
       "    <tr>\n",
       "      <th>time</th>\n",
       "      <th></th>\n",
       "      <th></th>\n",
       "      <th></th>\n",
       "      <th></th>\n",
       "    </tr>\n",
       "  </thead>\n",
       "  <tbody>\n",
       "    <tr>\n",
       "      <th>2022-04-06 12:35:57.531</th>\n",
       "      <td>grupo2-bancadaB1/E2</td>\n",
       "      <td>1</td>\n",
       "      <td>1649248557531000</td>\n",
       "      <td>2022-04-06 12:35:57.531</td>\n",
       "    </tr>\n",
       "    <tr>\n",
       "      <th>2022-04-06 12:35:57.853</th>\n",
       "      <td>grupo2-bancadaB1/S4</td>\n",
       "      <td>1</td>\n",
       "      <td>1649248557853000</td>\n",
       "      <td>2022-04-06 12:35:57.853</td>\n",
       "    </tr>\n",
       "    <tr>\n",
       "      <th>2022-04-06 12:35:58.514</th>\n",
       "      <td>grupo2-bancadaB1/E2</td>\n",
       "      <td>0</td>\n",
       "      <td>1649248558514000</td>\n",
       "      <td>2022-04-06 12:35:58.514</td>\n",
       "    </tr>\n",
       "    <tr>\n",
       "      <th>2022-04-06 12:37:07.682</th>\n",
       "      <td>grupo2-bancadaB1/E3</td>\n",
       "      <td>1</td>\n",
       "      <td>1649248627682000</td>\n",
       "      <td>2022-04-06 12:37:07.682</td>\n",
       "    </tr>\n",
       "    <tr>\n",
       "      <th>2022-04-06 12:37:08.060</th>\n",
       "      <td>grupo2-bancadaB1/S0</td>\n",
       "      <td>1</td>\n",
       "      <td>1649248628060000</td>\n",
       "      <td>2022-04-06 12:37:08.060</td>\n",
       "    </tr>\n",
       "    <tr>\n",
       "      <th>...</th>\n",
       "      <td>...</td>\n",
       "      <td>...</td>\n",
       "      <td>...</td>\n",
       "      <td>...</td>\n",
       "    </tr>\n",
       "    <tr>\n",
       "      <th>2022-04-06 13:20:39.740</th>\n",
       "      <td>grupo2-bancadaB1/S7</td>\n",
       "      <td>1</td>\n",
       "      <td>1649251239740000</td>\n",
       "      <td>2022-04-06 13:20:39.740</td>\n",
       "    </tr>\n",
       "    <tr>\n",
       "      <th>2022-04-06 13:24:59.917</th>\n",
       "      <td>grupo2-bancadaB1/E2</td>\n",
       "      <td>1</td>\n",
       "      <td>1649251499917000</td>\n",
       "      <td>2022-04-06 13:24:59.917</td>\n",
       "    </tr>\n",
       "    <tr>\n",
       "      <th>2022-04-06 13:25:00.147</th>\n",
       "      <td>grupo2-bancadaB1/E2</td>\n",
       "      <td>0</td>\n",
       "      <td>1649251500147000</td>\n",
       "      <td>2022-04-06 13:25:00.147</td>\n",
       "    </tr>\n",
       "    <tr>\n",
       "      <th>2022-04-06 13:25:00.237</th>\n",
       "      <td>grupo2-bancadaB1/S4</td>\n",
       "      <td>1</td>\n",
       "      <td>1649251500237000</td>\n",
       "      <td>2022-04-06 13:25:00.237</td>\n",
       "    </tr>\n",
       "    <tr>\n",
       "      <th>2022-04-06 13:25:00.377</th>\n",
       "      <td>grupo2-bancadaB1/S7</td>\n",
       "      <td>0</td>\n",
       "      <td>1649251500377000</td>\n",
       "      <td>2022-04-06 13:25:00.377</td>\n",
       "    </tr>\n",
       "  </tbody>\n",
       "</table>\n",
       "<p>2240 rows × 4 columns</p>\n",
       "</div>"
      ],
      "text/plain": [
       "                                       topic value              time  \\\n",
       "time                                                                   \n",
       "2022-04-06 12:35:57.531  grupo2-bancadaB1/E2     1  1649248557531000   \n",
       "2022-04-06 12:35:57.853  grupo2-bancadaB1/S4     1  1649248557853000   \n",
       "2022-04-06 12:35:58.514  grupo2-bancadaB1/E2     0  1649248558514000   \n",
       "2022-04-06 12:37:07.682  grupo2-bancadaB1/E3     1  1649248627682000   \n",
       "2022-04-06 12:37:08.060  grupo2-bancadaB1/S0     1  1649248628060000   \n",
       "...                                      ...   ...               ...   \n",
       "2022-04-06 13:20:39.740  grupo2-bancadaB1/S7     1  1649251239740000   \n",
       "2022-04-06 13:24:59.917  grupo2-bancadaB1/E2     1  1649251499917000   \n",
       "2022-04-06 13:25:00.147  grupo2-bancadaB1/E2     0  1649251500147000   \n",
       "2022-04-06 13:25:00.237  grupo2-bancadaB1/S4     1  1649251500237000   \n",
       "2022-04-06 13:25:00.377  grupo2-bancadaB1/S7     0  1649251500377000   \n",
       "\n",
       "                                       datetime  \n",
       "time                                             \n",
       "2022-04-06 12:35:57.531 2022-04-06 12:35:57.531  \n",
       "2022-04-06 12:35:57.853 2022-04-06 12:35:57.853  \n",
       "2022-04-06 12:35:58.514 2022-04-06 12:35:58.514  \n",
       "2022-04-06 12:37:07.682 2022-04-06 12:37:07.682  \n",
       "2022-04-06 12:37:08.060 2022-04-06 12:37:08.060  \n",
       "...                                         ...  \n",
       "2022-04-06 13:20:39.740 2022-04-06 13:20:39.740  \n",
       "2022-04-06 13:24:59.917 2022-04-06 13:24:59.917  \n",
       "2022-04-06 13:25:00.147 2022-04-06 13:25:00.147  \n",
       "2022-04-06 13:25:00.237 2022-04-06 13:25:00.237  \n",
       "2022-04-06 13:25:00.377 2022-04-06 13:25:00.377  \n",
       "\n",
       "[2240 rows x 4 columns]"
      ]
     },
     "execution_count": 378,
     "metadata": {},
     "output_type": "execute_result"
    }
   ],
   "source": [
    "df"
   ]
  },
  {
   "cell_type": "code",
   "execution_count": 377,
   "metadata": {},
   "outputs": [],
   "source": [
    "fig.write_image(\"vitorias_x_derrotas.png\")"
   ]
  },
  {
   "cell_type": "code",
   "execution_count": 345,
   "metadata": {},
   "outputs": [
    {
     "data": {
      "application/vnd.plotly.v1+json": {
       "config": {
        "plotlyServerURL": "https://plot.ly"
       },
       "data": [
        {
         "domain": {
          "column": 0,
          "row": 0
         },
         "title": {
          "text": "Número de Rodadas"
         },
         "type": "indicator",
         "value": 88
        },
        {
         "domain": {
          "column": 0,
          "row": 1
         },
         "title": {
          "text": "Número de Hellos"
         },
         "type": "indicator",
         "value": 1871
        }
       ],
       "layout": {
        "grid": {
         "columns": 1,
         "pattern": "independent",
         "rows": 2
        },
        "template": {
         "data": {
          "bar": [
           {
            "error_x": {
             "color": "#2a3f5f"
            },
            "error_y": {
             "color": "#2a3f5f"
            },
            "marker": {
             "line": {
              "color": "#E5ECF6",
              "width": 0.5
             },
             "pattern": {
              "fillmode": "overlay",
              "size": 10,
              "solidity": 0.2
             }
            },
            "type": "bar"
           }
          ],
          "barpolar": [
           {
            "marker": {
             "line": {
              "color": "#E5ECF6",
              "width": 0.5
             },
             "pattern": {
              "fillmode": "overlay",
              "size": 10,
              "solidity": 0.2
             }
            },
            "type": "barpolar"
           }
          ],
          "carpet": [
           {
            "aaxis": {
             "endlinecolor": "#2a3f5f",
             "gridcolor": "white",
             "linecolor": "white",
             "minorgridcolor": "white",
             "startlinecolor": "#2a3f5f"
            },
            "baxis": {
             "endlinecolor": "#2a3f5f",
             "gridcolor": "white",
             "linecolor": "white",
             "minorgridcolor": "white",
             "startlinecolor": "#2a3f5f"
            },
            "type": "carpet"
           }
          ],
          "choropleth": [
           {
            "colorbar": {
             "outlinewidth": 0,
             "ticks": ""
            },
            "type": "choropleth"
           }
          ],
          "contour": [
           {
            "colorbar": {
             "outlinewidth": 0,
             "ticks": ""
            },
            "colorscale": [
             [
              0,
              "#0d0887"
             ],
             [
              0.1111111111111111,
              "#46039f"
             ],
             [
              0.2222222222222222,
              "#7201a8"
             ],
             [
              0.3333333333333333,
              "#9c179e"
             ],
             [
              0.4444444444444444,
              "#bd3786"
             ],
             [
              0.5555555555555556,
              "#d8576b"
             ],
             [
              0.6666666666666666,
              "#ed7953"
             ],
             [
              0.7777777777777778,
              "#fb9f3a"
             ],
             [
              0.8888888888888888,
              "#fdca26"
             ],
             [
              1,
              "#f0f921"
             ]
            ],
            "type": "contour"
           }
          ],
          "contourcarpet": [
           {
            "colorbar": {
             "outlinewidth": 0,
             "ticks": ""
            },
            "type": "contourcarpet"
           }
          ],
          "heatmap": [
           {
            "colorbar": {
             "outlinewidth": 0,
             "ticks": ""
            },
            "colorscale": [
             [
              0,
              "#0d0887"
             ],
             [
              0.1111111111111111,
              "#46039f"
             ],
             [
              0.2222222222222222,
              "#7201a8"
             ],
             [
              0.3333333333333333,
              "#9c179e"
             ],
             [
              0.4444444444444444,
              "#bd3786"
             ],
             [
              0.5555555555555556,
              "#d8576b"
             ],
             [
              0.6666666666666666,
              "#ed7953"
             ],
             [
              0.7777777777777778,
              "#fb9f3a"
             ],
             [
              0.8888888888888888,
              "#fdca26"
             ],
             [
              1,
              "#f0f921"
             ]
            ],
            "type": "heatmap"
           }
          ],
          "heatmapgl": [
           {
            "colorbar": {
             "outlinewidth": 0,
             "ticks": ""
            },
            "colorscale": [
             [
              0,
              "#0d0887"
             ],
             [
              0.1111111111111111,
              "#46039f"
             ],
             [
              0.2222222222222222,
              "#7201a8"
             ],
             [
              0.3333333333333333,
              "#9c179e"
             ],
             [
              0.4444444444444444,
              "#bd3786"
             ],
             [
              0.5555555555555556,
              "#d8576b"
             ],
             [
              0.6666666666666666,
              "#ed7953"
             ],
             [
              0.7777777777777778,
              "#fb9f3a"
             ],
             [
              0.8888888888888888,
              "#fdca26"
             ],
             [
              1,
              "#f0f921"
             ]
            ],
            "type": "heatmapgl"
           }
          ],
          "histogram": [
           {
            "marker": {
             "pattern": {
              "fillmode": "overlay",
              "size": 10,
              "solidity": 0.2
             }
            },
            "type": "histogram"
           }
          ],
          "histogram2d": [
           {
            "colorbar": {
             "outlinewidth": 0,
             "ticks": ""
            },
            "colorscale": [
             [
              0,
              "#0d0887"
             ],
             [
              0.1111111111111111,
              "#46039f"
             ],
             [
              0.2222222222222222,
              "#7201a8"
             ],
             [
              0.3333333333333333,
              "#9c179e"
             ],
             [
              0.4444444444444444,
              "#bd3786"
             ],
             [
              0.5555555555555556,
              "#d8576b"
             ],
             [
              0.6666666666666666,
              "#ed7953"
             ],
             [
              0.7777777777777778,
              "#fb9f3a"
             ],
             [
              0.8888888888888888,
              "#fdca26"
             ],
             [
              1,
              "#f0f921"
             ]
            ],
            "type": "histogram2d"
           }
          ],
          "histogram2dcontour": [
           {
            "colorbar": {
             "outlinewidth": 0,
             "ticks": ""
            },
            "colorscale": [
             [
              0,
              "#0d0887"
             ],
             [
              0.1111111111111111,
              "#46039f"
             ],
             [
              0.2222222222222222,
              "#7201a8"
             ],
             [
              0.3333333333333333,
              "#9c179e"
             ],
             [
              0.4444444444444444,
              "#bd3786"
             ],
             [
              0.5555555555555556,
              "#d8576b"
             ],
             [
              0.6666666666666666,
              "#ed7953"
             ],
             [
              0.7777777777777778,
              "#fb9f3a"
             ],
             [
              0.8888888888888888,
              "#fdca26"
             ],
             [
              1,
              "#f0f921"
             ]
            ],
            "type": "histogram2dcontour"
           }
          ],
          "mesh3d": [
           {
            "colorbar": {
             "outlinewidth": 0,
             "ticks": ""
            },
            "type": "mesh3d"
           }
          ],
          "parcoords": [
           {
            "line": {
             "colorbar": {
              "outlinewidth": 0,
              "ticks": ""
             }
            },
            "type": "parcoords"
           }
          ],
          "pie": [
           {
            "automargin": true,
            "type": "pie"
           }
          ],
          "scatter": [
           {
            "marker": {
             "colorbar": {
              "outlinewidth": 0,
              "ticks": ""
             }
            },
            "type": "scatter"
           }
          ],
          "scatter3d": [
           {
            "line": {
             "colorbar": {
              "outlinewidth": 0,
              "ticks": ""
             }
            },
            "marker": {
             "colorbar": {
              "outlinewidth": 0,
              "ticks": ""
             }
            },
            "type": "scatter3d"
           }
          ],
          "scattercarpet": [
           {
            "marker": {
             "colorbar": {
              "outlinewidth": 0,
              "ticks": ""
             }
            },
            "type": "scattercarpet"
           }
          ],
          "scattergeo": [
           {
            "marker": {
             "colorbar": {
              "outlinewidth": 0,
              "ticks": ""
             }
            },
            "type": "scattergeo"
           }
          ],
          "scattergl": [
           {
            "marker": {
             "colorbar": {
              "outlinewidth": 0,
              "ticks": ""
             }
            },
            "type": "scattergl"
           }
          ],
          "scattermapbox": [
           {
            "marker": {
             "colorbar": {
              "outlinewidth": 0,
              "ticks": ""
             }
            },
            "type": "scattermapbox"
           }
          ],
          "scatterpolar": [
           {
            "marker": {
             "colorbar": {
              "outlinewidth": 0,
              "ticks": ""
             }
            },
            "type": "scatterpolar"
           }
          ],
          "scatterpolargl": [
           {
            "marker": {
             "colorbar": {
              "outlinewidth": 0,
              "ticks": ""
             }
            },
            "type": "scatterpolargl"
           }
          ],
          "scatterternary": [
           {
            "marker": {
             "colorbar": {
              "outlinewidth": 0,
              "ticks": ""
             }
            },
            "type": "scatterternary"
           }
          ],
          "surface": [
           {
            "colorbar": {
             "outlinewidth": 0,
             "ticks": ""
            },
            "colorscale": [
             [
              0,
              "#0d0887"
             ],
             [
              0.1111111111111111,
              "#46039f"
             ],
             [
              0.2222222222222222,
              "#7201a8"
             ],
             [
              0.3333333333333333,
              "#9c179e"
             ],
             [
              0.4444444444444444,
              "#bd3786"
             ],
             [
              0.5555555555555556,
              "#d8576b"
             ],
             [
              0.6666666666666666,
              "#ed7953"
             ],
             [
              0.7777777777777778,
              "#fb9f3a"
             ],
             [
              0.8888888888888888,
              "#fdca26"
             ],
             [
              1,
              "#f0f921"
             ]
            ],
            "type": "surface"
           }
          ],
          "table": [
           {
            "cells": {
             "fill": {
              "color": "#EBF0F8"
             },
             "line": {
              "color": "white"
             }
            },
            "header": {
             "fill": {
              "color": "#C8D4E3"
             },
             "line": {
              "color": "white"
             }
            },
            "type": "table"
           }
          ]
         },
         "layout": {
          "annotationdefaults": {
           "arrowcolor": "#2a3f5f",
           "arrowhead": 0,
           "arrowwidth": 1
          },
          "autotypenumbers": "strict",
          "coloraxis": {
           "colorbar": {
            "outlinewidth": 0,
            "ticks": ""
           }
          },
          "colorscale": {
           "diverging": [
            [
             0,
             "#8e0152"
            ],
            [
             0.1,
             "#c51b7d"
            ],
            [
             0.2,
             "#de77ae"
            ],
            [
             0.3,
             "#f1b6da"
            ],
            [
             0.4,
             "#fde0ef"
            ],
            [
             0.5,
             "#f7f7f7"
            ],
            [
             0.6,
             "#e6f5d0"
            ],
            [
             0.7,
             "#b8e186"
            ],
            [
             0.8,
             "#7fbc41"
            ],
            [
             0.9,
             "#4d9221"
            ],
            [
             1,
             "#276419"
            ]
           ],
           "sequential": [
            [
             0,
             "#0d0887"
            ],
            [
             0.1111111111111111,
             "#46039f"
            ],
            [
             0.2222222222222222,
             "#7201a8"
            ],
            [
             0.3333333333333333,
             "#9c179e"
            ],
            [
             0.4444444444444444,
             "#bd3786"
            ],
            [
             0.5555555555555556,
             "#d8576b"
            ],
            [
             0.6666666666666666,
             "#ed7953"
            ],
            [
             0.7777777777777778,
             "#fb9f3a"
            ],
            [
             0.8888888888888888,
             "#fdca26"
            ],
            [
             1,
             "#f0f921"
            ]
           ],
           "sequentialminus": [
            [
             0,
             "#0d0887"
            ],
            [
             0.1111111111111111,
             "#46039f"
            ],
            [
             0.2222222222222222,
             "#7201a8"
            ],
            [
             0.3333333333333333,
             "#9c179e"
            ],
            [
             0.4444444444444444,
             "#bd3786"
            ],
            [
             0.5555555555555556,
             "#d8576b"
            ],
            [
             0.6666666666666666,
             "#ed7953"
            ],
            [
             0.7777777777777778,
             "#fb9f3a"
            ],
            [
             0.8888888888888888,
             "#fdca26"
            ],
            [
             1,
             "#f0f921"
            ]
           ]
          },
          "colorway": [
           "#636efa",
           "#EF553B",
           "#00cc96",
           "#ab63fa",
           "#FFA15A",
           "#19d3f3",
           "#FF6692",
           "#B6E880",
           "#FF97FF",
           "#FECB52"
          ],
          "font": {
           "color": "#2a3f5f"
          },
          "geo": {
           "bgcolor": "white",
           "lakecolor": "white",
           "landcolor": "#E5ECF6",
           "showlakes": true,
           "showland": true,
           "subunitcolor": "white"
          },
          "hoverlabel": {
           "align": "left"
          },
          "hovermode": "closest",
          "mapbox": {
           "style": "light"
          },
          "paper_bgcolor": "white",
          "plot_bgcolor": "#E5ECF6",
          "polar": {
           "angularaxis": {
            "gridcolor": "white",
            "linecolor": "white",
            "ticks": ""
           },
           "bgcolor": "#E5ECF6",
           "radialaxis": {
            "gridcolor": "white",
            "linecolor": "white",
            "ticks": ""
           }
          },
          "scene": {
           "xaxis": {
            "backgroundcolor": "#E5ECF6",
            "gridcolor": "white",
            "gridwidth": 2,
            "linecolor": "white",
            "showbackground": true,
            "ticks": "",
            "zerolinecolor": "white"
           },
           "yaxis": {
            "backgroundcolor": "#E5ECF6",
            "gridcolor": "white",
            "gridwidth": 2,
            "linecolor": "white",
            "showbackground": true,
            "ticks": "",
            "zerolinecolor": "white"
           },
           "zaxis": {
            "backgroundcolor": "#E5ECF6",
            "gridcolor": "white",
            "gridwidth": 2,
            "linecolor": "white",
            "showbackground": true,
            "ticks": "",
            "zerolinecolor": "white"
           }
          },
          "shapedefaults": {
           "line": {
            "color": "#2a3f5f"
           }
          },
          "ternary": {
           "aaxis": {
            "gridcolor": "white",
            "linecolor": "white",
            "ticks": ""
           },
           "baxis": {
            "gridcolor": "white",
            "linecolor": "white",
            "ticks": ""
           },
           "bgcolor": "#E5ECF6",
           "caxis": {
            "gridcolor": "white",
            "linecolor": "white",
            "ticks": ""
           }
          },
          "title": {
           "x": 0.05
          },
          "xaxis": {
           "automargin": true,
           "gridcolor": "white",
           "linecolor": "white",
           "ticks": "",
           "title": {
            "standoff": 15
           },
           "zerolinecolor": "white",
           "zerolinewidth": 2
          },
          "yaxis": {
           "automargin": true,
           "gridcolor": "white",
           "linecolor": "white",
           "ticks": "",
           "title": {
            "standoff": 15
           },
           "zerolinecolor": "white",
           "zerolinewidth": 2
          }
         }
        }
       }
      }
     },
     "metadata": {},
     "output_type": "display_data"
    }
   ],
   "source": [
    "fig = go.Figure()\n",
    "\n",
    "fig.add_trace(go.Indicator(value=num_rodadas, title={'text': 'Número de Rodadas'}, domain = {'row': 0, 'column': 0}))\n",
    "\n",
    "fig.add_trace(go.Indicator(value=num_hellos, title={'text': 'Número de Hellos'}, domain = {'row': 1, 'column': 0}))\n",
    "\n",
    "fig.update_layout(\n",
    "    grid = {'rows': 2, 'columns': 1, 'pattern': \"independent\"})"
   ]
  }
 ],
 "metadata": {
  "interpreter": {
   "hash": "b26b816b46fa41c744f8d854f235666a2947db7564293d95b5d878fcc3ab0b5a"
  },
  "kernelspec": {
   "display_name": "Python 3.8.3 64-bit",
   "language": "python",
   "name": "python3"
  },
  "language_info": {
   "codemirror_mode": {
    "name": "ipython",
    "version": 3
   },
   "file_extension": ".py",
   "mimetype": "text/x-python",
   "name": "python",
   "nbconvert_exporter": "python",
   "pygments_lexer": "ipython3",
   "version": "3.8.3"
  },
  "orig_nbformat": 4
 },
 "nbformat": 4,
 "nbformat_minor": 2
}
